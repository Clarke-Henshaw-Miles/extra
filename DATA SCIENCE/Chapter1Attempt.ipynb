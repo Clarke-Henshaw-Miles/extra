{
  "cells": [
    {
      "cell_type": "markdown",
      "metadata": {
        "id": "SkXyPSvTVF45"
      },
      "source": [
        "# To be completed at the Live Session and in your own time.\n",
        "\n",
        "These set of examples we will help you get familiar with Jupyter notebooks and useful Python packages and terminology - this is important not only for practice required for the assessements, but also to go through some of the basic concepts that will be needed to understand how to do data science, using Python and Jupyter Notebooks as our tools.\n",
        "\n",
        "Before attempting these examples, please ensure you have read through [Chapter 1 Jupyter Notebook](https://github.com/haleygomez/Data-Science-2024/blob/main/blended_exercises/Chapter1/Chapter1.ipynb) and have completed the Learning Central **Chapter 1 quiz**."
      ]
    },
    {
      "cell_type": "markdown",
      "metadata": {
        "id": "BfkCer6BVF5A"
      },
      "source": [
        "First we will define some useful packages we want to use in this notebook to answer the following questions:"
      ]
    },
    {
      "cell_type": "code",
      "execution_count": 1,
      "metadata": {
        "id": "6RFO5lBIVF5B"
      },
      "outputs": [],
      "source": [
        "# define and import some important things\n",
        "import numpy as np\n",
        "import pylab as plt\n",
        "\n",
        "%matplotlib inline"
      ]
    },
    {
      "cell_type": "markdown",
      "metadata": {
        "id": "6lX_k00RVF5F"
      },
      "source": [
        "***"
      ]
    },
    {
      "cell_type": "markdown",
      "metadata": {
        "id": "-Sxvx7inVF5F"
      },
      "source": [
        "\n",
        "# Plotting in Python"
      ]
    },
    {
      "cell_type": "markdown",
      "metadata": {
        "id": "o76nOaiuVF5G"
      },
      "source": [
        "## Question"
      ]
    },
    {
      "cell_type": "markdown",
      "metadata": {
        "id": "hty3ZGlFVF5H"
      },
      "source": [
        "A star brightens over time until it explodes as a supernova. Astronomers record the brightness (as a factor of the normal brightness) with days since it started to brighten, recording the following datasets: <br><br>\n",
        "\n",
        "time = [0.,0.08163265,    0.24489796,  0.32653061,  \n",
        "  0.48979592,   0.73469388,  0.81632653,  \n",
        "  0.97959184 ,  1.2244898 ,  1.30612245,  \n",
        "  1.46938776  ,1.71428571,  1.79591837,\n",
        "  1.95918367 ,   2.20408163,  2.28571429,  \n",
        "  2.44897959 ,    2.7755102,\n",
        "  2.93877551 ,  3.18367347 , 3.26530612  ,\n",
        "  3.42857143 , 3.67346939,  3.75510204   , 4.       ]\n",
        "<br><br>\n",
        "\n",
        "brightness = [0.36253211,    1.16748232 ,\n",
        "  1.78775018,  2.01934344 ,   2.70657393 ,\n",
        "  2.57897185,  2.96562829 ,    3.00174824 ,\n",
        "  2.93663326,  2.80591525 ,   2.11027035 ,\n",
        "  1.67940753,  1.64772549 ,  0.3513817  ,\n",
        "  0.33366962,  0.47097419 , -0.39790443,\n",
        " -0.65133529, -1.52086508 , -1.76831912,\n",
        " -2.05865798, -1.55083722 ,-1.90755375 ,\n",
        " -1.74307249, -1.66250842]\n",
        "\n",
        "<br>\n",
        "\n",
        "Day 0 marks the time of the explosion.\n",
        "<br>\n",
        "\n",
        "1. Plot the data. Don't forget to label the axes. Set the colour of the data to be green with a diamond marker. <br><br>\n",
        "\n",
        "2. The brightness values have an estimated error of 10%.  Plot the datapoints with errorbars in $y$.   <br><br>\n",
        "\n",
        "3. Astronomer Rees argues that this data could be fit by the function $y =  Asin(Bx)+C$. Plot this function on top of your data with some guesses at what $A$, $B$ and $C$ are (hint: $C=0.5$ provides a good fit to the data).<br><br>\n",
        "\n",
        "4. Discuss the plot."
      ]
    },
    {
      "cell_type": "markdown",
      "metadata": {
        "id": "G30ctxYCVF5H"
      },
      "source": [
        "### Answer:"
      ]
    },
    {
      "cell_type": "markdown",
      "metadata": {
        "id": "5623-32EVF5I"
      },
      "source": [
        "*Your answer here:*"
      ]
    },
    {
      "cell_type": "code",
      "source": [
        "time = np.array([0.,0.08163265, 0.24489796, 0.32653061, 0.48979592, 0.73469388, 0.81632653, 0.97959184 , 1.2244898 , 1.30612245, 1.46938776 ,1.71428571, 1.79591837, 1.95918367 , 2.20408163, 2.28571429, 2.44897959 , 2.7755102, 2.93877551 , 3.18367347 , 3.26530612 , 3.42857143 , 3.67346939, 3.75510204 , 4. ])\n",
        "brightness = np.array([0.36253211, 1.16748232 , 1.78775018, 2.01934344 , 2.70657393 , 2.57897185, 2.96562829 , 3.00174824 , 2.93663326, 2.80591525 , 2.11027035 , 1.67940753, 1.64772549 , 0.3513817 , 0.33366962, 0.47097419 , -0.39790443, -0.65133529, -1.52086508 , -1.76831912, -2.05865798, -1.55083722 ,-1.90755375 , -1.74307249, -1.66250842])"
      ],
      "metadata": {
        "id": "pKXUaQrTVs67"
      },
      "execution_count": 25,
      "outputs": []
    },
    {
      "cell_type": "code",
      "source": [
        "def fit_function(x, a, b, c):\n",
        "    return a*np.sin(b*x)+c\n",
        "\n",
        "y = fit_function(time, 2.5, 1.4, 0.5)\n",
        "\n",
        "plt.plot(time, brightness, 'gd')\n",
        "plt.plot(time, y)\n",
        "plt.title('Brightness of star before and after Supernova')\n",
        "plt.xlabel('Time (days)')\n",
        "plt.ylabel('Brightness (factor of normal brightness)')\n",
        "plt.errorbar(time, brightness, yerr=((0.1*brightness)**2)**0.5, fmt='none')\n",
        "plt.grid()\n",
        "plt.show()"
      ],
      "metadata": {
        "colab": {
          "base_uri": "https://localhost:8080/",
          "height": 472
        },
        "id": "NeazJJQQWHal",
        "outputId": "b30a14af-4037-4647-b5c7-2f13fc396686"
      },
      "execution_count": 45,
      "outputs": [
        {
          "output_type": "display_data",
          "data": {
            "text/plain": [
              "<Figure size 640x480 with 1 Axes>"
            ],
            "image/png": "[encoded data removed]"
          },
          "metadata": {}
        }
      ]
    },
    {
      "cell_type": "markdown",
      "source": [
        "##Discussion of plot\n",
        "The plot above shows the brightness before and after a star explodes as a supernova. As we know a star increases in relative brightness up until exploding, we can conclude from the above plot that the supernova event most likely occured on day 1 up to where the brightness increases and then decreases suddenly immediately after."
      ],
      "metadata": {
        "id": "1_mq2q82ZukD"
      }
    },
    {
      "cell_type": "markdown",
      "metadata": {
        "id": "ZtN6qWrKVF5K"
      },
      "source": [
        "***"
      ]
    },
    {
      "cell_type": "markdown",
      "metadata": {
        "id": "JwVxkY5WVF5K"
      },
      "source": [
        " # Conditional Statements"
      ]
    },
    {
      "cell_type": "markdown",
      "metadata": {
        "id": "aQUwmogCVF5L"
      },
      "source": [
        "## Question"
      ]
    },
    {
      "cell_type": "markdown",
      "metadata": {
        "id": "tpivMDMxVF5L"
      },
      "source": [
        "You are driving too fast and a police officer stops you. Write a **function** to return one of 3 possible results: \"No ticket\", \"Small ticket\", or \"Big Ticket\". If your speed is 70mph or less, the result is \"No Ticket\". If speed is between 71 and 80mph inclusive, the result is \"Small Ticket\". If speed is 81mph or more, the result is \"Big Ticket\". Unless it is your birthday -- on your birthday, the police officer will let you go at 5mph higher in all cases.\n",
        "<br>\n",
        "\n",
        "Tip: For your birthday, use True and False statements.\n",
        "<br>\n",
        "\n",
        "Demonstrate your code works using print statements."
      ]
    },
    {
      "cell_type": "markdown",
      "metadata": {
        "id": "kWaaqMfIVF5M"
      },
      "source": [
        "### Answer:"
      ]
    },
    {
      "cell_type": "markdown",
      "metadata": {
        "id": "JApAGdpqVF5M"
      },
      "source": [
        "*Your answer here:*"
      ]
    },
    {
      "cell_type": "code",
      "source": [
        "def ticket(speed, birthday):\n",
        "    if birthday:\n",
        "        new_speed = speed - 5\n",
        "    else:\n",
        "        new_speed = speed\n",
        "\n",
        "    if new_speed > 80:\n",
        "        return 'Big Ticket'\n",
        "    elif new_speed > 70:\n",
        "        return 'Small Ticket'\n",
        "    else:\n",
        "        return 'No Ticket'\n",
        ""
      ],
      "metadata": {
        "id": "w2euyl-OnVYc"
      },
      "execution_count": 46,
      "outputs": []
    },
    {
      "cell_type": "code",
      "source": [
        "print(\"81mph but birthday =\",ticket(81, True))\n",
        "print(\"81mph and not birthday =\",ticket(81, False))\n",
        "print(\"71mph but birthday =\",ticket(71, True))\n",
        "print(\"71mph and not birthday =\",ticket(71, False))\n",
        "print(\"60mph but birthday =\",ticket(60, True))\n",
        "print(\"60mph and not birthday =\",ticket(60, False))"
      ],
      "metadata": {
        "id": "tcUJnoyznoaG",
        "outputId": "aa9b2f4a-53ce-47c0-c250-3da3c2f787d6",
        "colab": {
          "base_uri": "https://localhost:8080/"
        }
      },
      "execution_count": 55,
      "outputs": [
        {
          "output_type": "stream",
          "name": "stdout",
          "text": [
            "81mph but birthday = Small Ticket\n",
            "81mph and not birthday = Big Ticket\n",
            "71mph but birthday = No Ticket\n",
            "71mph and not birthday = Small Ticket\n",
            "60mph but birthday = No Ticket\n",
            "60mph and not birthday = No Ticket\n"
          ]
        }
      ]
    }
  ],
  "metadata": {
    "kernelspec": {
      "display_name": "Python 3 (ipykernel)",
      "language": "python",
      "name": "python3"
    },
    "language_info": {
      "codemirror_mode": {
        "name": "ipython",
        "version": 3
      },
      "file_extension": ".py",
      "mimetype": "text/x-python",
      "name": "python",
      "nbconvert_exporter": "python",
      "pygments_lexer": "ipython3",
      "version": "3.9.13"
    },
    "colab": {
      "provenance": []
    }
  },
  "nbformat": 4,
  "nbformat_minor": 0
}