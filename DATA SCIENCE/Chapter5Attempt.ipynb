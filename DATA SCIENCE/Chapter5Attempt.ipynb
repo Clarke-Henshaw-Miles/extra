{
  "cells": [
    {
      "cell_type": "markdown",
      "metadata": {
        "id": "view-in-github",
        "colab_type": "text"
      },
      "source": [
        "<a href=\"https://colab.research.google.com/github/Clarke-Henshaw-Miles/extra/blob/master/DATA%20SCIENCE/Chapter5Attempt.ipynb\" target=\"_parent\"><img src=\"https://colab.research.google.com/assets/colab-badge.svg\" alt=\"Open In Colab\"/></a>"
      ]
    },
    {
      "cell_type": "markdown",
      "metadata": {
        "id": "xZdc9UxITr7m"
      },
      "source": [
        "# To be completed at the Live Session and in your own time.\n",
        "\n",
        "These set of examples we will help you get familiar with non parametric tests and correlations within a Jupyter notebook.   The questions coloured green are important practice for CA, particularly Question 5.\n",
        "\n",
        "Before attempting these examples, please ensure you have read through [Chapter 5 Jupyter Notebook](https://github.com/haleygomez/Data-Science-2024/blob/main/blended_exercises/Chapter5/Chapter5.ipynb) and have completed the Learning Central **Chapter 5 quiz**."
      ]
    },
    {
      "cell_type": "markdown",
      "metadata": {
        "id": "sQx_eE9tTr7o"
      },
      "source": [
        "***"
      ]
    },
    {
      "cell_type": "markdown",
      "metadata": {
        "id": "o49CHHFATr7p"
      },
      "source": [
        "#  Hypothesis Testing"
      ]
    },
    {
      "cell_type": "markdown",
      "metadata": {
        "id": "L9rNTJgpTr7p"
      },
      "source": [
        "## <font color=#30a64d>Question</font>"
      ]
    },
    {
      "cell_type": "markdown",
      "metadata": {
        "id": "Lwl7AJdlTr7p"
      },
      "source": [
        "In the previous week, we used the datafile [worldpopulation.txt](https://github.com/haleygomez/Data-Science-2024/raw/main/blended_exercises/Chapter4/worldpopulation.txt) to estimate the correlation between the world population size measured over time.\n",
        "\n",
        "1. Measure the correlation coefficient using the in built Python package for the Spearman $\\rho$ statistic.\n",
        "\n",
        "2. Measure it again but this time creating the functions to calculate $\\rho$ from scratch.   You can use the in-built function to rank datasets from scipy.stats: `from scipy.stats import rankdata`."
      ]
    },
    {
      "cell_type": "markdown",
      "metadata": {
        "id": "6vYBEdmJTr7p"
      },
      "source": [
        "### Answer"
      ]
    },
    {
      "cell_type": "markdown",
      "metadata": {
        "id": "vcMBdclxTr7q"
      },
      "source": [
        "*Your answer here.*"
      ]
    },
    {
      "cell_type": "code",
      "source": [
        "import numpy as np\n",
        "from scipy.stats import spearmanr\n",
        "from scipy.stats import rankdata\n",
        "\n",
        "#using in-built python function\n",
        "data = np.loadtxt('https://github.com/haleygomez/Data-Science-2024/raw/main/blended_exercises/Chapter4/worldpopulation.txt')\n",
        "corr, _ = spearmanr(data[0], data[1])\n",
        "print('The Spearman rho correlation for the world population growth using in-built python function is: %.5f' % corr)\n",
        "\n",
        "#calculating by hand\n",
        "N = len(data[0])\n",
        "#ranking data\n",
        "r_x = rankdata(data[0])\n",
        "r_y = rankdata(data[1])\n",
        "\n",
        "#set up equation for spearman rho\n",
        "def rho_s(rank_x, rank_y, N):\n",
        "  top = np.sum(rank_x*rank_y) - (N*(N+1)**2/4)\n",
        "  bottom = np.sqrt((np.sum(rank_x**2) - (N*(N+1)**2/4))*(np.sum(rank_y**2) - (N*(N+1)**2/4)))\n",
        "  rho = top/bottom\n",
        "  return rho\n",
        "\n",
        "rho = rho_s(r_x, r_y, N)\n",
        "print('The Spearman rho correlation for the world population growth using the equation is: %.5f' % rho)\n"
      ],
      "metadata": {
        "colab": {
          "base_uri": "https://localhost:8080/"
        },
        "id": "MT9DFnoowwC3",
        "outputId": "360749d0-fb1f-403c-d9bf-9797877147b7"
      },
      "execution_count": 3,
      "outputs": [
        {
          "output_type": "stream",
          "name": "stdout",
          "text": [
            "The Spearman rho correlation for the world population growth using in-built python function is: 1.00000\n",
            "The Spearman rho correlation for the world population growth using the equation is: 1.00000\n"
          ]
        }
      ]
    },
    {
      "cell_type": "markdown",
      "metadata": {
        "id": "ob4JIRaPTr7q"
      },
      "source": [
        "***"
      ]
    },
    {
      "cell_type": "markdown",
      "metadata": {
        "id": "LGRt_4ikTr7q"
      },
      "source": [
        "# KS Test"
      ]
    },
    {
      "cell_type": "markdown",
      "metadata": {
        "id": "fDtNishtTr7q"
      },
      "source": [
        "## Question"
      ]
    },
    {
      "cell_type": "markdown",
      "metadata": {
        "id": "GFBykqFFTr7r"
      },
      "source": [
        "Two near-by apple trees are in bloom in an otherwise empty field. One is a Whitney Crab the other is a Redwell. We want to test if bees prefer one tree to the other.\n",
        "\n",
        "To do this we collect data. We use a stop watch to time how long a bee stays near a particular tree. We begin to time when the bee touches the tree, we stop timing when the bee is more than a metre from the tree. Unfortunately we did not get exactly the same number of bees for each tree as it started to rain.   The data is below (time is in seconds). Can we conclude anything based on our experiment?\n",
        "\n",
        "redwell= 23.4, 30.9, 18.8, 23.0, 21.4, 1, 24.6, 23.8, 24.1, 18.7, 16.3, 20.3, 14.9, 35.4, 21.6, 21.2, 21.0, 15.0, 15.6, 24.0, 34.6, 40.9, 30.7, 24.5, 16.6, 1, 21.7, 1, 23.6, 1, 25.7, 19.3, 46.9, 23.3, 21.8, 33.3, 24.9, 24.4, 1, 19.8, 17.2, 21.5, 25.5, 23.3, 18.6, 22.0, 29.8, 33.3, 1, 21.3, 18.6, 26.8, 19.4, 21.1, 21.2, 20.5, 19.8, 26.3, 39.3, 21.4, 22.6, 1, 35.3, 7.0, 19.3, 21.3, 10.1, 20.2, 1, 36.2, 16.7, 21.1, 39.1, 19.9, 32.1, 23.1, 21.8, 30.4, 19.62, 15.5\n",
        "\n",
        "whitney=16.5, 1, 22.6, 25.3, 23.7, 1, 23.3, 23.9, 16.2, 23.0, 21.6, 10.8, 12.2, 23.6, 10.1, 24.4, 16.4, 11.7, 17.7, 34.3, 24.3, 18.7, 27.5, 25.8, 22.5, 14.2, 21.7, 1, 31.2, 13.8, 29.7, 23.1, 26.1, 25.1, 23.4, 21.7, 24.4, 13.2, 22.1, 26.7, 22.7, 1, 18.2, 28.7, 29.1, 27.4, 22.3, 13.2, 22.5, 25.0, 1, 6.6, 23.7, 23.5, 17.3, 24.6, 27.8, 29.7, 25.3, 19.9, 18.2, 26.2, 20.4, 23.3, 26.7, 26.0, 1, 25.1, 33.1, 35.0, 25.3, 23.6, 23.2, 20.2, 24.7, 22.6, 39.1, 26.5, 22.7"
      ]
    },
    {
      "cell_type": "markdown",
      "metadata": {
        "id": "V3VVqA74Tr7r"
      },
      "source": [
        "### Answer"
      ]
    },
    {
      "cell_type": "markdown",
      "metadata": {
        "id": "5eKtKuSVTr7r"
      },
      "source": [
        "*Your answer here.*"
      ]
    },
    {
      "cell_type": "code",
      "source": [
        "#null hypothesis is that there is no difference in the datasets\n",
        "#ie bees do not prefer one tree over the other\n",
        "import pylab as plt\n",
        "%matplotlib inline\n",
        "\n",
        "#defining data\n",
        "redwell= [23.4, 30.9, 18.8, 23.0, 21.4, 1, 24.6, 23.8, 24.1, 18.7, 16.3, 20.3, 14.9, 35.4, 21.6, 21.2, 21.0, 15.0, 15.6, 24.0, 34.6, 40.9, 30.7, 24.5, 16.6, 1, 21.7, 1, 23.6, 1, 25.7, 19.3, 46.9, 23.3, 21.8, 33.3, 24.9, 24.4, 1, 19.8, 17.2, 21.5, 25.5, 23.3, 18.6, 22.0, 29.8, 33.3, 1, 21.3, 18.6, 26.8, 19.4, 21.1, 21.2, 20.5, 19.8, 26.3, 39.3, 21.4, 22.6, 1, 35.3, 7.0, 19.3, 21.3, 10.1, 20.2, 1, 36.2, 16.7, 21.1, 39.1, 19.9, 32.1, 23.1, 21.8, 30.4, 19.62, 15.5]\n",
        "whitney = [16.5, 1, 22.6, 25.3, 23.7, 1, 23.3, 23.9, 16.2, 23.0, 21.6, 10.8, 12.2, 23.6, 10.1, 24.4, 16.4, 11.7, 17.7, 34.3, 24.3, 18.7, 27.5, 25.8, 22.5, 14.2, 21.7, 1, 31.2, 13.8, 29.7, 23.1, 26.1, 25.1, 23.4, 21.7, 24.4, 13.2, 22.1, 26.7, 22.7, 1, 18.2, 28.7, 29.1, 27.4, 22.3, 13.2, 22.5, 25.0, 1, 6.6, 23.7, 23.5, 17.3, 24.6, 27.8, 29.7, 25.3, 19.9, 18.2, 26.2, 20.4, 23.3, 26.7, 26.0, 1, 25.1, 33.1, 35.0, 25.3, 23.6, 23.2, 20.2, 24.7, 22.6, 39.1, 26.5, 22.7]\n",
        "\n",
        "#make a function to plot the cumulative distribution function for the sample\n",
        "def cdf(x):\n",
        "    xs = np.sort(x)\n",
        "    # this basically makes a cumulative distribution function\n",
        "    ys = np.arange(1, len(xs)+1)/float(len(xs))\n",
        "    return xs, ys\n",
        "\n",
        "\n",
        "#calculating cdf for both types of tree\n",
        "r_t, r_cdf = cdf(redwell)\n",
        "w_t, w_cdf = cdf(whitney)\n",
        "\n",
        "#making plots\n",
        "plt.figure(figsize=(12,8))\n",
        "plt.subplot(221)\n",
        "plt.plot(r_t, r_cdf, label='Redwell')\n",
        "plt.plot(w_t, w_cdf, label='Whitney')\n",
        "#plt.ylim(0.1,1)\n",
        "plt.legend()\n",
        "plt.title('CDF')\n",
        "plt.ylabel('CDF')\n",
        "plt.xlabel('Time bees spent at tree')\n",
        "\n",
        "#second plot zoomed in on cdf\n",
        "plt.subplot(222)\n",
        "plt.plot(r_t,r_cdf,label='Redwell')\n",
        "plt.plot(w_t,w_cdf,label='Whitney')\n",
        "plt.xlim(20,40)\n",
        "plt.ylim(0.3,1)\n",
        "plt.legend()\n",
        "plt.title('Zoom in on CDF')\n",
        "plt.ylabel('CDF')\n",
        "plt.xlabel('Time bees spent at tree')"
      ],
      "metadata": {
        "id": "XAy2L2hGGeA3",
        "outputId": "76255ad0-c144-479e-e091-1a0b9ad0331a",
        "colab": {
          "base_uri": "https://localhost:8080/",
          "height": 400
        }
      },
      "execution_count": 17,
      "outputs": [
        {
          "output_type": "execute_result",
          "data": {
            "text/plain": [
              "Text(0.5, 0, 'Time bees spent at tree')"
            ]
          },
          "metadata": {},
          "execution_count": 17
        },
        {
          "output_type": "display_data",
          "data": {
            "text/plain": [
              "<Figure size 1200x800 with 2 Axes>"
            ],
            "image/png": "[encoded data removed]"
          },
          "metadata": {}
        }
      ]
    },
    {
      "cell_type": "code",
      "source": [
        "from scipy.stats import ks_2samp\n",
        "results = ks_2samp(redwell, whitney)\n",
        "\n",
        "print('The p-value for the KS test is: %.5f' % results.pvalue)\n",
        "print('The statistic (D) for the KS test is: %.5f' % results.statistic)"
      ],
      "metadata": {
        "id": "3c_WrPhbJb0x",
        "outputId": "987a9469-a331-455e-e78c-40c170af0220",
        "colab": {
          "base_uri": "https://localhost:8080/"
        }
      },
      "execution_count": 19,
      "outputs": [
        {
          "output_type": "stream",
          "name": "stdout",
          "text": [
            "The p-value for the KS test is: 0.03386\n",
            "The statistic (D) for the KS test is: 0.22041\n"
          ]
        }
      ]
    },
    {
      "cell_type": "markdown",
      "source": [
        "The result is a 96.5% chance of these distributions being different.\n",
        "\n",
        "This is below the significance level of 0.05.\n",
        "\n",
        "We can reject the null hypothesis that the bees do not prefer one tree over another."
      ],
      "metadata": {
        "id": "DrGFZJOeJu1S"
      }
    },
    {
      "cell_type": "markdown",
      "metadata": {
        "id": "kVs0183fTr7r"
      },
      "source": [
        "***"
      ]
    },
    {
      "cell_type": "markdown",
      "metadata": {
        "id": "3qM2vhHzTr7s"
      },
      "source": [
        "# Chi-square test"
      ]
    },
    {
      "cell_type": "markdown",
      "metadata": {
        "id": "wTngxd0rTr7s"
      },
      "source": [
        "## Question"
      ]
    },
    {
      "cell_type": "markdown",
      "metadata": {
        "id": "FBC1v6j_Tr7s"
      },
      "source": [
        "You publish flyers for an event in three different colours and want to test whether the colour has a significant affect on whether people take them. The data is available below.  Use the $\\chi^2$ test to do this, and calculate the probability of the significance of the result.\n",
        "\n",
        "| |white | light blue | neon pink | Totals|\n",
        "|---|---|---|---|---|\n",
        "|Take | 32| 38 | 20| 90|\n",
        "|Don't take | 8| 22 |30 | 60|\n",
        "|Totals | 40|60 | 50| 150|"
      ]
    },
    {
      "cell_type": "markdown",
      "metadata": {
        "id": "N2KsStyATr7s"
      },
      "source": [
        "### Answer"
      ]
    },
    {
      "cell_type": "markdown",
      "metadata": {
        "id": "LeWpv8NUTr7s"
      },
      "source": [
        "*Your answer here.*"
      ]
    },
    {
      "cell_type": "markdown",
      "metadata": {
        "id": "vmvWu39sTr7s"
      },
      "source": [
        "***"
      ]
    }
  ],
  "metadata": {
    "kernelspec": {
      "display_name": "Python 3 (ipykernel)",
      "language": "python",
      "name": "python3"
    },
    "language_info": {
      "codemirror_mode": {
        "name": "ipython",
        "version": 3
      },
      "file_extension": ".py",
      "mimetype": "text/x-python",
      "name": "python",
      "nbconvert_exporter": "python",
      "pygments_lexer": "ipython3",
      "version": "3.9.13"
    },
    "colab": {
      "provenance": [],
      "include_colab_link": true
    }
  },
  "nbformat": 4,
  "nbformat_minor": 0
}