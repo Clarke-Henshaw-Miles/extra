{
  "cells": [
    {
      "cell_type": "markdown",
      "metadata": {
        "id": "view-in-github",
        "colab_type": "text"
      },
      "source": [
        "<a href=\"https://colab.research.google.com/github/Clarke-Henshaw-Miles/extra/blob/master/DATA%20SCIENCE/Chapter5.ipynb\" target=\"_parent\"><img src=\"https://colab.research.google.com/assets/colab-badge.svg\" alt=\"Open In Colab\"/></a>"
      ]
    },
    {
      "cell_type": "markdown",
      "metadata": {
        "id": "C0B6_jn3paMi"
      },
      "source": [
        "# Non parametric tests"
      ]
    },
    {
      "cell_type": "markdown",
      "metadata": {
        "id": "HoB7-L2TpaMk"
      },
      "source": [
        "Please ensure you have watched the Chapter 5 video(s)."
      ]
    },
    {
      "cell_type": "markdown",
      "metadata": {
        "id": "uW9sWQK8paMk"
      },
      "source": [
        "## You will learn the following things in this Chapter\n",
        "\n",
        "- When to use a non parametric test on your data.\n",
        "- How to calculate the Kendall's rank correlation.\n",
        "- Understand how to use Spearman's rank to derive correlations.\n",
        "- Understand when to use a Kilmogorov Smirnov test to compare distributions.\n",
        "- How to use Python programming to do the above.\n",
        "- After completing this notebook you will be able to finish CA 1 question 5."
      ]
    },
    {
      "cell_type": "markdown",
      "metadata": {
        "id": "L-RfOjnJpaMl"
      },
      "source": [
        "***"
      ]
    },
    {
      "cell_type": "markdown",
      "metadata": {
        "id": "GzOaH2t3paMl"
      },
      "source": [
        "A non parametric test (sometimes called a distribution free test) does not assume anything about the underlying distribution (for example, that the data comes from a normal distribution). Non-parametric tests are important particularly if the sample size is small or if there are large outliers in the data.  \n",
        "\n",
        "If we have a parameter that is normally distributed, then we would expect our sampling distribution to be normally distributed as well, characterised by a mean and standard deviation. What does this mean? Well next time we take data to measure the parameter, then we might expect that any future observation will lie in a given range dictated by the normal distribution.   \n",
        "\n",
        "The normal family of distributions all have the same general shape and are parameterized by mean and standard deviation. That means that if the mean and standard deviation are known and if the distribution is normal, the probability of any future observation lying in a given range is known.  Here's a good example from [Wikipedia](https://en.wikipedia.org/wiki/Parametric_statistics).\n",
        "\n",
        "Suppose that we have a sample of 99 test scores with a mean of 100 and a standard deviation of 1. If we assume all 99 test scores are random observations from a normal distribution, then we predict there is a 1% chance that the 100th test score will be higher than 102.33 (that is, the mean plus 2.33 standard deviations), assuming that the 100th test score comes from the same distribution as the others.\n",
        "\n",
        "For *non-parametric tests*, we don't need to assume anything about the distribution of test scores to reason that before we gave the test, it was equally likely that the highest score would be any of the first 99 scores. Thus there is a 1% chance that the 100th score is higher than any of the 99 that preceded it.\n",
        "\n",
        "Here we review some of the more common examples of non-parametric tests: (i) the univariate tests Kolmogorov-Smirnov and Anderson Darling and (ii) bivariate tests Kendall's $\\tau$ and the Spearman's $\\rho_s$ rank. There are many other tests including Mann-Whitney etc."
      ]
    },
    {
      "cell_type": "markdown",
      "metadata": {
        "id": "ZNtq9g-gpaMm"
      },
      "source": [
        "## Spearman's rank"
      ]
    },
    {
      "cell_type": "markdown",
      "metadata": {
        "id": "OiWUQ8mApaMm"
      },
      "source": [
        "As we saw in Chapter 4, correlation is a measure of how much two variables are related. This means that as one variable increases, so do the values of the other variable, or perhaps the other variable decreases as one increases.  This is simple to estimate if both variables have a Guassian distribution, but if we do not know if this is the case, we need to use non parametric methods.\n",
        "\n",
        "Spearman's rank correlation coefficient can be defined as a special case of the Pearson $r$ applied to ranked (sorted) variables. Unlike Pearson, Spearman's correlation is not restricted to linear relationships. Instead, it measures monotonic association (only strictly increasing or decreasing, but not mixed) between two variables and relies on the rank order of values. In other words, rather than comparing means and variances, Spearman's coefficient looks at the relative order of values for each variable. This makes it appropriate to use with both *continuous and discrete* data.\n",
        "\n",
        "This test is named after Charles Spearman and is denoted by greek letter $\\rho$.  Spearman's rank correlation is given by:\n",
        "\n",
        "$\\rho_s=\\dfrac{\\sum_{i=1}^N\\,R(x_i)\\,R(y_i)-N(N+1)^2/4} {\\sqrt{\\sum_{i=1}^N\\,R(x_i)^2-N(N+1)^2/4}\\sqrt{\\sum_{i = 1}^N  \\,R(y_i)^2-N(N+1)^2/4}}$\n",
        "\n",
        "In the case of no ties (i.e. duplicates of x, y, etc), the above expression reduces to\n",
        "\n",
        "$\\rho_s=1-\\dfrac{\\sum_{i = 1}^N\\,[R(x_i) -R(y_i)]^2}{N\\,(N^2-1)}\n",
        ".$\n",
        "\n",
        "As you can possibly see from the equations above, Spearman's $\\rho$ is effectively calculating Pearson $r$ correlation on the ordered/ranked values instead of the real values.  So we are quantifying the degree to which the ordered/ranked variables are associated with a monotonic function (see below).  The null hypothesis assumes that the samples are uncorrelated.\n",
        "\n",
        "One nice feature of the Spearman test is that it is not so sensitive to outliers at the extremes of $x$ and $y$ as the Pearson correlation co-efficient.  This is because the points are treated by their rank rather than their intrinsic value.\n",
        "\n",
        "**When can we use it?**\n",
        "- When the data is monotonic\n",
        "\n",
        "When $N \\sim 30$ and larger, $\\rho_s$ is a normal distribution with mean of $0$ and variance $\\dfrac{1}{N-1}$.\n",
        "\n",
        "A nice easy way to rank the data in python is to use `from scipy.stats import rankdata` and `rank_x = rankdata(x)`."
      ]
    },
    {
      "cell_type": "markdown",
      "metadata": {
        "id": "nx9aOCyZpaMn"
      },
      "source": [
        "### <font color=#4290C4>Example</font>\n",
        "\n",
        "Use the following snippet of code to generate some fake data (the `random.seed` is to make sure we always get the same set of random data points each time we run our cell).\n",
        "\n",
        "\n",
        "`np.random.seed(100)`\n",
        "\n",
        "`x = np.random.normal(0,1,30)`\n",
        "\n",
        "`y = np.random.normal(0,1,30)`\n",
        "\n",
        "1. Estimate the Pearson $r$ using in-built Python functions.\n",
        "\n",
        "2. Let's see what one crazy outlier does to our correlations. Let's add an outlier data point using the snippet of code below. Re-evaluate the Pearson $r$. Also estimate Spearman's $\\rho$ on this dataset using in-built Python functions.\n",
        "\n",
        "`new_x = np.append(x, [20])`\n",
        "\n",
        "`new_y = np.append(y, [20])`"
      ]
    },
    {
      "cell_type": "markdown",
      "metadata": {
        "id": "CW3NIGu6paMn"
      },
      "source": [
        "###  <font color=#c38241> Solution</font>\n",
        "\n",
        "Click below to see the solution."
      ]
    },
    {
      "cell_type": "code",
      "execution_count": 9,
      "metadata": {
        "id": "ucVGw9EwpaMo",
        "outputId": "5d837e56-8f17-47da-ab1a-0837a5ba718d",
        "colab": {
          "base_uri": "https://localhost:8080/",
          "height": 491
        }
      },
      "outputs": [
        {
          "output_type": "stream",
          "name": "stdout",
          "text": [
            "0.16454200588058832\n",
            "Pearson r correlation is 0.106 - very weak correlation - could not draw any conclusion from this\n"
          ]
        },
        {
          "output_type": "display_data",
          "data": {
            "text/plain": [
              "<Figure size 640x480 with 1 Axes>"
            ],
            "image/png": "[encoded data removed]"
          },
          "metadata": {}
        }
      ],
      "source": [
        "import numpy as np\n",
        "from scipy.stats import pearsonr\n",
        "from scipy.stats import spearmanr\n",
        "import pylab as plt\n",
        "%matplotlib inline\n",
        "\n",
        "#generating fake data\n",
        "np.random.seed(100)\n",
        "\n",
        "# data from qn 1\n",
        "x = np.random.normal(0,1,30)\n",
        "y = np.random.normal(0,1,30)\n",
        "\n",
        "# let's take a look at the data\n",
        "plt.xlabel('x')\n",
        "plt.ylabel('y')\n",
        "plt.xlim(-5,25)\n",
        "plt.ylim(-5,25)\n",
        "plt.scatter(x,y)\n",
        "\n",
        "print(np.mean(x))\n",
        "\n",
        "corr_pearson, p_pearson = pearsonr(x,y)\n",
        "print('Pearson r correlation is {:.3f} - very weak correlation - could not draw any conclusion from this'.format(corr_pearson))"
      ]
    },
    {
      "cell_type": "markdown",
      "metadata": {
        "id": "ul2j7yoOpaMp"
      },
      "source": [
        "So it appears from Pearson $r$ that the data is not correlated."
      ]
    },
    {
      "cell_type": "code",
      "execution_count": 11,
      "metadata": {
        "id": "eo5HmLdgpaMp",
        "outputId": "86cbfe2f-a953-4654-9162-7809a77e819c",
        "colab": {
          "base_uri": "https://localhost:8080/",
          "height": 473
        }
      },
      "outputs": [
        {
          "output_type": "stream",
          "name": "stdout",
          "text": [
            "Pearson r correlation is 0.950 - this is implying this data is almost perfectly correlated? This is clearly not right!\n"
          ]
        },
        {
          "output_type": "display_data",
          "data": {
            "text/plain": [
              "<Figure size 640x480 with 1 Axes>"
            ],
            "image/png": "[encoded data removed]"
          },
          "metadata": {}
        }
      ],
      "source": [
        "# now for qn 2\n",
        "# let's add on that extra data point which we know is an outlier\n",
        "\n",
        "new_x = np.append(x, [20])\n",
        "new_y = np.append(y, [20])\n",
        "\n",
        "# let's take a look at the data\n",
        "plt.xlabel('x')\n",
        "plt.ylabel('y')\n",
        "plt.xlim(-5,25)\n",
        "plt.ylim(-5,25)\n",
        "plt.scatter(new_x,new_y)\n",
        "\n",
        "corr_pearson, p_pearson = pearsonr(new_x,new_y)\n",
        "print('Pearson r correlation is {:.3f} - this is implying this data is almost perfectly correlated? This is clearly not right!'.format(corr_pearson))"
      ]
    },
    {
      "cell_type": "markdown",
      "metadata": {
        "id": "-30yznlTpaMq"
      },
      "source": [
        "Now Pearson says we have strongly correlated data with correlation of 0.95!\n",
        "\n",
        "Let's try Spearman now."
      ]
    },
    {
      "cell_type": "code",
      "execution_count": 13,
      "metadata": {
        "id": "lE0xCAGppaMq",
        "outputId": "9fb22da4-4d1e-4438-dfaa-dd8dd01fccdd",
        "colab": {
          "base_uri": "https://localhost:8080/"
        }
      },
      "outputs": [
        {
          "output_type": "stream",
          "name": "stdout",
          "text": [
            "Spearman rho correlation is 0.220 with p-value of 0.23 - says that the correlation between the 2 data sets is still very weak - deals with the outliers much better!\n"
          ]
        }
      ],
      "source": [
        "corr_spearman, p_spearman =  spearmanr(new_x,new_y)\n",
        "\n",
        "print('Spearman rho correlation is {:.3f}'.format(corr_spearman)+' with p-value of {:.2f} - says that the correlation between the 2 data sets is still very weak - deals with the outliers much better!'.format(p_spearman))"
      ]
    },
    {
      "cell_type": "markdown",
      "metadata": {
        "id": "DN4yiz6TpaMq"
      },
      "source": [
        "Here we see that Spearman suggests there is no correlation (or rather it is very weak) in contrast to the extremely strong correlation value for Pearson’s correlation coefficient. This reminds us to **look at our data** before we try doing any fancy statistics on it!"
      ]
    },
    {
      "cell_type": "markdown",
      "metadata": {
        "id": "aR6CfOS3paMq"
      },
      "source": [
        "### What do we mean by monotonic?"
      ]
    },
    {
      "cell_type": "markdown",
      "metadata": {
        "id": "2YAbPTMZpaMq"
      },
      "source": [
        "Monotonic relationships between data sets are where:\n",
        "- one variable increases and the other increases or\n",
        "- one variable decreases and the other decreases or\n",
        "- one variable increases as the other decreases.\n",
        "\n",
        "An example cartoon of monotonic, monotonic and linear, and non monotonic data is shown below (image from [here](https://www.statisticshowto.com/monotonic-relationship/)).\n",
        "\n",
        "<img src=\"https://github.com/haleygomez/Data-Science-2024/raw/main/blended_exercises/Chapter5/monotonic-relationship.png\" width=\"400\">\n",
        "\n",
        "Monotonic variables can increase (or decrease) in the same direction, but not always at the same rate. But linear variables increase (or decrease) in the same direction *at the same rate*."
      ]
    },
    {
      "cell_type": "markdown",
      "metadata": {
        "id": "Mg3p_dw0paMr"
      },
      "source": [
        "## Kendall's Tau\n",
        "\n",
        "Unlike the Spearman $\\rho$ statistic, Kendalls' $\\tau$ test does not take into account the difference between ranked data — only the directional agreement. Therefore, this coefficient is more appropriate for *discrete data*. Kendall's $\\tau$ coefficient is defined as:\n",
        "\n",
        "${\\tau={\\dfrac{({\\text{number of concordant pairs}})-({\\text{number of discordant pairs}})}{N(N-1)/2}}}$\n",
        "\n",
        "- A concordant pair eg (x1, y1), (x2, y2) are pairs of values in which ranks coincide: $x1<x2$ and $y1<y2$ or $x1>x2$ and $y1>y2$.\n",
        "\n",
        "- A discordant pair would be one that does not satisfy this condition, eg ($x=1$,$y=7$) and ($x=2$,$y=5$) would be a discordant pair.\n",
        "\n",
        "Ties in $y$ are assumed to account equally as 0.5 to both the number of concordant pairs and the number of discordant pairs. Ties in $x$ are ignored. If $N$ is large the distribution is given by a normal distribution with mean $E[\\tau_x] = 0$ and variance\n",
        "\n",
        "$\\sigma^2=\\dfrac{\\sqrt{2(2N+5)}}{3\\sqrt(N(N-1))}.$\n",
        "\n",
        "Note that the null hypothesis for Kendall $\\tau$ would be that the variables are uncorrelated."
      ]
    },
    {
      "cell_type": "markdown",
      "metadata": {
        "id": "TUmiewp8paMr"
      },
      "source": [
        "## Chi-square Test\n",
        "\n",
        "The chi-square goodness-of-fit test (or $\\chi^2$ test) can be applied to discrete distributions such as the binomial and the Poisson.\n",
        "\n",
        "This test is used for *categorical data*.\n",
        "\n",
        "In this type of hypothesis test, we try to determine whether the data fit a particular distribution or not. For example, we may suspect the unknown data fit a binomial distribution and use a chi-square test (meaning the distribution for the hypothesis test is chi-square) to determine if there is a good match or not.\n",
        "\n",
        "This chi square statistic is obtained by calculating the difference between the observed number of cases and the expected number of cases in each **category**.  This difference is squared and divided by the expected number of cases in that category to give the (general) chi-squared statistic:\n",
        "\n",
        "$\\chi^2=\\sum_i^N\\dfrac{\\left(O_i-E_i\\right)^2}{E_i}.$\n",
        "\n",
        "We can compare the chi-squared statistic to probability tables using the number of degrees of freedom.  In general, the number of degrees of freedom if you write your data as a table is (number of rows-1) $\\times$ (number of columns-1). The null hypothesis is that there is no relationship between two categories.\n",
        "\n",
        "If $\\chi^2\\leq n_{\\rm bin}$ then we can say that there is a reasonable evidence that our assumption about the limiting function was correct. On the other hand, if $\\chi^2>>n_{\\rm bin}$ then we might want to reconsider.\n",
        "\n",
        "**Generalising chi-square**\n",
        "\n",
        "In the above example, our expected difference between the observed values and expected values was given by $\\sqrt{E_k}$. However, in general we can simply write wherever we are comparing the expected values (from say a model) with data values (measured in our experiment)\n",
        "\n",
        "$\\chi^2=\\sum_i^N\\left(\\dfrac{O_i-E_i}{\\sigma_i}\\right)^2$\n",
        "\n",
        "where $\\sigma_i$ is the standard deviation expected for each point that is being compared to the underlying distribution."
      ]
    },
    {
      "cell_type": "markdown",
      "metadata": {
        "id": "IZ_A_itVpaMr"
      },
      "source": [
        "#### Derivation: chi-square test"
      ]
    },
    {
      "cell_type": "markdown",
      "metadata": {
        "id": "LtxGCu1ApaMr"
      },
      "source": [
        "Suppose we wish to know the range of gun. We could perform an experiment where we fire $n$ projectiles from the gun, and measure the distance $x$ at which the projectiles first make contact with the ground. In such case, due to the many, random uncertainties, it is natural to assume that the distribution $x$ will be normally spread around some central value $x_0$, with a standard deviation of $\\sigma$, such that the group of ranges $X={x_1,x_2,\\ldots,x_n}=N(x_0,\\sigma)$\n",
        "\n",
        "This is a new gun, and we know very little about it, so we have no prior knowledge of either $x_0$ or $\\sigma$. Our first task is to estimate these from the measurements. We do this in the standard way, with,\n",
        "\n",
        "$\\mbox{best estimate for}~x_0=\\hat{x}=\\dfrac{\\sum x_i}{n}$\n",
        "\n",
        "and\n",
        "\n",
        "$\\mbox{best estimate for}~\\sigma=\\hat{\\sigma}=\\sqrt{\\dfrac{\\sum(x_i-\\hat x)^2}{n-1}}$\n",
        "\n",
        "\n",
        "We now want know: is our assumption that the distances are normally distributed correct? To do this, we have to compare the expected distribution to our actual distribution, to see whether our values of $x$ are within those we expect for a limiting distribution of the form  $N(x_0,\\sigma)$, which we are approximating with $N(\\hat{x}, \\hat{\\sigma})$.\n",
        "\n",
        "The first problem is that because $x$ is a continuous, rather than discrete variable, we need to split the distribution into intervals - remember that PDFs are not meaningful for a given $x$, but rather only make sense over some range of $x$. So let us split our data up into, say 4 bins, with boundaries chosen at $\\hat{x}-\\hat{\\sigma}$, $\\hat{x}$ and $\\hat{x}+\\hat{\\sigma}$. We will refer to the number of bins as $n_{\\rm bin}$\n",
        "\n",
        "We can now bin our data, counting the number of measurements $O_k$ that we observe in each bin, $k$. We can then compare this number to the expected number of measurements we would have obtained in the bin, $E_k$, if our assumptions about the limiting distribution are true. To calculate $E_k$ for each bin, we simply work out the probability of obtaining an value in the range of $x$ covered by the bin, and multiply this by the total number of measurements made in the experiment,\n",
        "\n",
        "$E_k=n\\int_{x_{\\rm min}}^{x_{\\rm max}}N(\\hat{x},\\hat{\\sigma})dx,$\n",
        "\n",
        "where $x_{\\rm min}$ and $x_{\\rm max}$ are the lower and upper boundaries of bin $k$ respectively. Clearly, the expected number $E_k$ is only the number that we would expect in some average sense, and we do not expect any one experiment of finite $n$ to yield $O_k$ to be exactly $E_k$. However we do expect the deviations to be small, if our assumption about the underlying distribution is correct.\n",
        "\n",
        "So how do we define small or large in this case? Well, the expected number of measurements in each bin can be thought of in terms of counting statistics -- i.e. the Poisson distribution that we encountered before. In this sense, $E_k$ represents the mean number that we would expect from many experiments (each taking exactly  $n$ measurements). We know that the standard deviation around this mean is given by simply $\\sqrt{E_k}$.  So we would expect the deviations in our observed values from the expected values, i.e. $|O_k - E_k|$, to be close to the value  $\\sqrt{E_k}$, if our assumptions about the underlying distribution are correct.\n",
        "\n",
        "That is, we expect,\n",
        "\n",
        "$\\dfrac{|O_k - E_k|}{\\sqrt{E_k}}\\sim 1$\n",
        "\n",
        "If we sum up the deviations in all bins, we can define,\n",
        "\n",
        "$\\chi^2=\\sum_{k=1}^{n_{bin}}\\dfrac{(O_k-E_k)^2}{E_k}$"
      ]
    },
    {
      "cell_type": "markdown",
      "metadata": {
        "id": "NoFM3quFpaMr"
      },
      "source": [
        "### Null hypothesis testing with chi-square\n",
        "\n",
        "Let's say we measure a value of $\\chi^2$ for our experiment.  How confident are we that we didn't just measure this statistic due to chance.\n",
        "Simply put, for the $\\chi^2$-square test, we have the following:\n",
        "\n",
        "- H0: The data are consistent with a specified distribution.\n",
        "- H1: The data are not consistent with a specified distribution\n",
        "\n",
        "If the null hypothesis is true, the observed and expected values will be close in value and the $\\chi$-square statistic will be close to zero. If the null hypothesis is false, then the $\\chi$-square statistic will be large.\n",
        "\n",
        "So then we compare with the probability density function for $\\chi^2$ and see if our $\\chi^2$ value is greater than or less than some critical value that depends both on the significance probability we want to test against ($\\alpha$, Chapter 4) and on the degrees of freedom $d$ - $\\chi^2_{\\alpha,{\\rm d}}$.\n",
        "\n",
        "The distribution of $\\chi^2$ is shown below.\n",
        "\n",
        "<img src=\"https://github.com/haleygomez/Data-Science-2024/raw/main/blended_exercises/Chapter5/deg_free_chi.png\" width=\"400\">\n",
        "\n",
        "As $k \\to \\infty$, the expected value (mean) of this PDF tends to $k$ and $\\sigma \\to \\sqrt{2k}$.  If $\\chi^2_{\\rm data}$ < $\\chi^2_{\\alpha,{\\rm d}}$ then we can not reject our null hypothesis."
      ]
    },
    {
      "cell_type": "markdown",
      "metadata": {
        "id": "lc3h-QYGpaMr"
      },
      "source": [
        "### The reduced chi-square statistic\n",
        "\n",
        "Technically, one should compare the value of $\\chi^2$ with the number of degrees of freedom $d$, rather than the number of bins. In general,\n",
        "\n",
        "$d=n_{\\rm data}-n_{\\rm params}$\n",
        "\n",
        "where $n_{\\rm data}$ is the number of data points, and $n_{\\rm params}$ is number of parameters that have needed to be computed from the data - also known as the *constraints*. Let's say we have three constraints: the total number of data points $n$ and then both the mean and variance were computed from the data. Now let's assume we ony have 4 bins of data, $n_{\\rm data} = 4$. So we see that $d = 1$ for this example. Had we had fewer bins, the $\\chi^2$ test is basically not appropriate to use.\n",
        "\n",
        "This suggests that a more convenient way to think about $\\chi^2$ is via the reduced $\\chi^2$, or $\\chi^2$ per degree of freedom, which we will denote as $\\tilde{\\chi}^2$, and define via\n",
        "\n",
        "$\\tilde{\\chi}^2=\\dfrac{\\chi^2}{d}$\n",
        "\n",
        "We then see that for the case where our assumptions about the underlying distribution are correct,\n",
        "\n",
        "$\\mbox{expected value of}\\tilde{\\chi}^2 \\approx 1$.\n",
        "\n",
        "However, recent work by [Andrae et al (2010)](https://arxiv.org/pdf/1012.3754.pdf) show that in practice, the degrees of freedom are in fact somewhere between $n_{\\rm data}-n_{\\rm params}$ and $n_{\\rm data}-1$, where it is $n_{\\rm data}-n_{\\rm params}$ only if the model we are comparing data to is *linear* and *linearly independent* for the\n",
        "given data."
      ]
    },
    {
      "cell_type": "markdown",
      "metadata": {
        "id": "i7cA1YOIpaMs"
      },
      "source": [
        "## KS Test\n",
        "\n",
        "The Kolmogorov-Smirnov, or K-S test, is one of the most commonly used tests in data science. The K-S  is used to test whether two sets of data are drawn from the same underlying limiting distribution. It is based around the *cumulative distribution* of the data, and is restricted to continuous variables.   This is a very common test in astronomy and medical science.\n",
        "\n",
        "When would we use it? Let's assume that Group A take a placebo drug and Group B have medicine. Does the medicine have any effect?  We can compare the distribution of results from Group A and B to see if they are different.\n",
        "\n",
        "However, even if the medicine doesn’t work, these numbers will never be the same due to randomness in experimental data, so *how different* must the outcomes be to say there is a difference or not in the medicine and the placebo?\n",
        "\n",
        "The cumulative distribution $S_N(x)$ of a set of $N$ data points $\\{ x_1,x2,\\ldots,x_N \\}$ is the fraction of data points with values less than a given $x$.  The function is created by simply sorting the data and making a running, normalised, sum for each value of $x$. Clearly the function moves in steps of $1/N$, being constant between consecutive values of $x$.\n",
        "\n",
        "The K-S test then measures the *maximum distance* between two cumulative distributions. If one is comparing the data set to some limiting distribution $f(x)$, with corresponding cumulative function $F(x)$, then the distance $D$ between the two cumulative distributions is simply,\n",
        "\n",
        "$D=\\underset{-\\infty<x<\\infty}{\\text{max}}|S_N(x)-F(x)|$\n",
        "\n",
        "or in the case where one is comparing two data sets,\n",
        "\n",
        "$D=\\underset{-\\infty<x<\\infty}{\\text{max}}|S_{N_1}(x)-S_{N_2}(x)|$\n",
        "\n",
        "where $S_{N_1}(x)$  and  $S_{N_2}(x)$ are the two data sets. One nice feature of using the distance in this way is that the K-S invariant to expansions and contractions in $x$ -- it works just the same for $x$ and $\\rm {log}(x)$.\n",
        "\n",
        "The null hypothesis in this case is that **the two distributions are the same**. So to put it more simply, the KS test uses the maximum deviation $D$ between two distributions as a figure of merit to decide whether they match each other.  Then we would infer that the closer the KS $D$ statistic value is to zero, then it is more probable that 2 samples came from the same distribution.  The closer $D$ gets to 1 suggests that the 2 samples did not come from the same underlying distribution, i.e. we could infer that they are statistically different from each other.\n",
        "\n",
        "**Disadvantages of the KS test**\n",
        "\n",
        "- The test is not distribution free, and so the data cannot be used to provide the parameters for the model $f(x)$, against which it is to be tested. For example, you cannot use the the K-S test to check whether the data has been drawn from a Gaussian, for which the mean and variance was derived from the data - the model parameters need to be known in advance.\n",
        "\n",
        "- Although it has been used to examine multivariate distributions, this is generally not a good idea, due to the difficulties of defining cumulative functions in multivariate space.\n",
        "\n",
        "- Finally, and probably most importantly, the KS is not good at picking up differences in the tails of functions. This is because the cumulative functions, which form the basis of the test, tend to 0 and 1 by definition. This results in the KS test being most sensitive around the median of the distributions (the 50th percentile), and progressively less sensitive as we move to the extremes."
      ]
    },
    {
      "cell_type": "markdown",
      "metadata": {
        "id": "b8Bd8KjFpaMs"
      },
      "source": [
        "### <font color=#4290C4>Example</font>\n",
        "\n",
        "Data for recovery times (in mins) after a heart attack for a group of patients given a placebo and a group given a medicine are measured to be:\n",
        "\n",
        "`treatment_B = [1.26, 0.34, 0.70, 1.75, 50.57, 1.55, 0.08, 0.42, 0.50, 3.20, 0.15, 0.49, 0.95, 0.24, 1.37, 0.17, 6.98, 0.10, 0.94, 0.38]`\n",
        "\n",
        "`placebo_B = [2.37, 2.16, 14.82, 1.73, 41.04, 0.23, 1.32, 2.91, 39.41, 0.11, 27.44, 4.51, 0.51, 4.50, 0.18, 14.68, 4.66, 1.30, 2.06, 1.19]`\n",
        "\n",
        "Find the expected value and associated statistics for this data."
      ]
    },
    {
      "cell_type": "markdown",
      "metadata": {
        "id": "I-MvMNOqpaMs"
      },
      "source": [
        "###  <font color=#c38241> Solution</font>\n",
        "\n",
        "Click below to see the solution."
      ]
    },
    {
      "cell_type": "code",
      "execution_count": 4,
      "metadata": {
        "id": "XxJkwJYlpaMs",
        "outputId": "cfdd355b-281c-46ac-b133-b2930b6e0c30",
        "colab": {
          "base_uri": "https://localhost:8080/"
        }
      },
      "outputs": [
        {
          "output_type": "stream",
          "name": "stdout",
          "text": [
            "The Placebo group\n",
            "The average recovery time is 8.36 +/- 12.82 mins\n",
            "min and max recovery times are 0.11 and 41.04 mins\n",
            "\n",
            "\n",
            "The Medicine group\n",
            "The average recovery time is 3.61 +/- 11.16 mins\n",
            "min and max recovery times are 0.08 and 50.57 mins\n"
          ]
        }
      ],
      "source": [
        "import numpy as np\n",
        "\n",
        "treatment_B = [1.26, 0.34, 0.70, 1.75, 50.57, 1.55, 0.08, 0.42, \\\n",
        "           0.50, 3.20, 0.15, 0.49, 0.95, 0.24, 1.37, 0.17, 6.98, 0.10, 0.94, 0.38]\n",
        "\n",
        "placebo_B = [2.37, 2.16, 14.82, 1.73, 41.04, 0.23, 1.32, 2.91, \\\n",
        "               39.41, 0.11, 27.44, 4.51, 0.51, 4.50, 0.18, 14.68, 4.66, 1.30, 2.06, 1.19]\n",
        "\n",
        "mean_placebo = np.mean(placebo_B)\n",
        "std_placebo = np.std(placebo_B,ddof=1)\n",
        "\n",
        "mean_treatment = np.mean(treatment_B)\n",
        "std_treatment = np.std(treatment_B,ddof=1)\n",
        "\n",
        "print('The Placebo group')\n",
        "print('The average recovery time is {:.2f} +/- {:.2f} mins'.format(mean_placebo, std_placebo))\n",
        "print('min and max recovery times are {:.2f} and {:.2f} mins'\\\n",
        "      .format(np.min(placebo_B), np.max(placebo_B)))\n",
        "\n",
        "print()\n",
        "print()\n",
        "\n",
        "print('The Medicine group')\n",
        "print('The average recovery time is {:.2f} +/- {:.2f} mins'.format(mean_treatment, std_treatment))\n",
        "print('min and max recovery times are {:.2f} and {:.2f} mins'.\\\n",
        "      format(np.min(treatment_B), np.max(treatment_B)))"
      ]
    },
    {
      "cell_type": "markdown",
      "metadata": {
        "id": "Af_FcAVhpaMt"
      },
      "source": [
        "So from these simple stats it appears that the recovery time is on average faster with the medicine compared to the treatment."
      ]
    },
    {
      "cell_type": "markdown",
      "metadata": {
        "id": "YP6kgM8upaMt"
      },
      "source": [
        "### <font color=#4290C4>Example</font>\n",
        "\n",
        "Plot the cumulative distributions of these two groups."
      ]
    },
    {
      "cell_type": "markdown",
      "metadata": {
        "id": "tPJ8uNa7paMt"
      },
      "source": [
        "###  <font color=#c38241> Solution</font>\n",
        "\n",
        "Click below to see the solution."
      ]
    },
    {
      "cell_type": "markdown",
      "metadata": {
        "id": "mmhoV5-VpaMt"
      },
      "source": [
        "Let's look at how the data is distributed by first sorting it.  To make a cumulative distribution from discrete data, all we need to do is sort the data and sum it at each step."
      ]
    },
    {
      "cell_type": "code",
      "execution_count": 14,
      "metadata": {
        "id": "2Rvjn9kbpaMt",
        "outputId": "85d07504-1c8b-4075-fdc7-cc3c17b02114",
        "colab": {
          "base_uri": "https://localhost:8080/",
          "height": 495
        }
      },
      "outputs": [
        {
          "output_type": "stream",
          "name": "stdout",
          "text": [
            "From this it seems as though the treatment is working as the recovery time appears to be much quicker for those taking the treatment not the placebo\n",
            "Now we want to find out by how much?\n"
          ]
        },
        {
          "output_type": "display_data",
          "data": {
            "text/plain": [
              "<Figure size 640x480 with 1 Axes>"
            ],
            "image/png": "[encoded data removed]"
          },
          "metadata": {}
        }
      ],
      "source": [
        "#make a function to plot the cumulative distribution function for the sample\n",
        "def cdf(x):\n",
        "    xs = np.sort(x)\n",
        "    # this basically makes a cumulative distribution function\n",
        "    ys = np.arange(1, len(xs)+1)/float(len(xs))\n",
        "    return xs, ys\n",
        "\n",
        "p_t,p_cdf = cdf(placebo_B)\n",
        "t_t,t_cdf = cdf(treatment_B)\n",
        "\n",
        "plt.semilogx(p_t,p_cdf,label='placebo')\n",
        "plt.semilogx(t_t,t_cdf,label='treatment')\n",
        "\n",
        "plt.xlim(0.1,100)\n",
        "plt.ylim(0.1,1)\n",
        "plt.legend()\n",
        "plt.ylabel('CDF')\n",
        "plt.xlabel('recovery time')\n",
        "\n",
        "print('From this it seems as though the treatment is working as the recovery time appears to be much quicker for those taking the treatment not the placebo')\n",
        "print('Now we want to find out by how much?')"
      ]
    },
    {
      "cell_type": "markdown",
      "metadata": {
        "id": "HBIVnngupaMt"
      },
      "source": [
        "But for most of the $x$ values, the fraction of the group given medicine that is less than x is clearly less than the fraction of the placebo group that is less than $x$.  That is, by-and-large, the group with the medicine have shorter recovery times than the control/placebo values for the same cumulative fraction.\n",
        "\n",
        "For example, the median (cumulative fraction = 0.5) recovery time for the treatment group is clearly less than one minute whereas the median for the placebo is more than 1min."
      ]
    },
    {
      "cell_type": "markdown",
      "metadata": {
        "id": "JNRUyAXgpaMt"
      },
      "source": [
        "### <font color=#4290C4>Example</font>\n",
        "\n",
        "Use the KS test to decide if these distributions are significantly different. You may use inbuilt functions."
      ]
    },
    {
      "cell_type": "markdown",
      "metadata": {
        "id": "Z0PJdcXvpaMu"
      },
      "source": [
        "###  <font color=#c38241> Solution</font>\n",
        "\n",
        "Click below to see the solution."
      ]
    },
    {
      "cell_type": "code",
      "execution_count": 15,
      "metadata": {
        "id": "0NWAmwEzpaMu",
        "outputId": "3f68e75b-32b3-4b3a-c71a-2c040c7f638c",
        "colab": {
          "base_uri": "https://localhost:8080/"
        }
      },
      "outputs": [
        {
          "output_type": "stream",
          "name": "stdout",
          "text": [
            "D is 0.450\n",
            "The p value is 0.0335\n"
          ]
        }
      ],
      "source": [
        "from scipy.stats import ks_2samp #2samp because we are comparing 2 data sets, if we only had one we would use 1samp\n",
        "results = ks_2samp(treatment_B,placebo_B)\n",
        "\n",
        "print('D is {:.3f}'.format(results[0]))\n",
        "print('The p value is {:.4f}'.format(results[1]))"
      ]
    },
    {
      "cell_type": "markdown",
      "metadata": {
        "id": "5mrAmSJ6paMu"
      },
      "source": [
        "The $p$-value (0.0335) is below our significance level of 0.05 whihc immediately suggests that the difference is significant between these two populations and so we can reject the null hypothesis that the two samples are the same.  Or more formally\n",
        "\n",
        "> the deviation between the two computed distributions is larger than one would expect to arise from two independent samples of the same size drawn from the same population."
      ]
    },
    {
      "cell_type": "markdown",
      "metadata": {
        "id": "leazJ9kypaMu"
      },
      "source": [
        "### <font color=#4290C4>Example</font>\n",
        "\n",
        "Above we saw the KS test being applied to two different samples. Here we will compare a data sample with a distribution.\n",
        "\n",
        "We measure the current running through a circuit over a period of 8 hours. Each hour, we record the following currents (in amps)\n",
        "\n",
        "1.41, 0.26, 1.97, 0.33, 0.55, 0.77, 1.46, 1.18\n",
        "\n",
        "Is there any evidence that the current is drawn from a uniform distribution between 0 and 2 amps?"
      ]
    },
    {
      "cell_type": "markdown",
      "metadata": {
        "id": "8t-q6vYppaMu"
      },
      "source": [
        "###  <font color=#c38241> Solution</font>\n",
        "\n",
        "Click below to see the solution."
      ]
    },
    {
      "cell_type": "markdown",
      "metadata": {
        "id": "lpkntYxapaMv"
      },
      "source": [
        "The probability density function of a uniform random variable $X$ between 0 and 2 is $f(x)=0.5$ for $0 < x < 2$. Therefore, the probability that $X$ is less than or equal to x is:\n",
        "\n",
        "$P(X\\le x)=\\int^x_0\\dfrac{1}{2}dt=\\dfrac{1}{2}x$\n",
        "\n",
        "We are interested in testing:\n",
        "\n",
        "the null hypothesis $H_0:$  \n",
        "\n",
        "$F(x)=F_0(x)$\n",
        "\n",
        "against the alternative hypothesis $H_1$:\n",
        "\n",
        "$F(x)\\neq F_0(x).$\n",
        "\n",
        "Let's compare the cumulative distributions for the current data and a randomly generated uniform distribution from $0<x<2$."
      ]
    },
    {
      "cell_type": "code",
      "execution_count": 7,
      "metadata": {
        "id": "sqILQ7AJpaMv",
        "outputId": "bee3031b-e09c-4e00-d9c2-e24f62588220",
        "colab": {
          "base_uri": "https://localhost:8080/",
          "height": 448
        }
      },
      "outputs": [
        {
          "output_type": "execute_result",
          "data": {
            "text/plain": [
              "<matplotlib.legend.Legend at 0x7f111813dcf0>"
            ]
          },
          "metadata": {},
          "execution_count": 7
        },
        {
          "output_type": "display_data",
          "data": {
            "text/plain": [
              "<Figure size 640x480 with 1 Axes>"
            ],
            "image/png": "[encoded data removed]"
          },
          "metadata": {}
        }
      ],
      "source": [
        "import numpy as np\n",
        "import pylab as plt\n",
        "\n",
        "%matplotlib inline\n",
        "\n",
        "#make a function to plot the cdf for the sample\n",
        "def ecdf(x):\n",
        "    xs = np.sort(x)\n",
        "    ys = np.arange(1, len(xs)+1)/float(len(xs))\n",
        "    return xs, ys\n",
        "\n",
        "# generate random uniform distribution\n",
        "s = np.random.uniform(0,2,100)\n",
        "\n",
        "# you could also use the following that automatically calculates the function\n",
        "# from statsmodels.distributions.empirical_distribution import ECDF\n",
        "\n",
        "current = [1.41, 0.26, 1.97, 0.33, 0.55, 0.77, 1.46, 1.18]\n",
        "\n",
        "xs, ys = ecdf(current)\n",
        "xss, yss = ecdf(s)\n",
        "plt.plot(xs, ys, label=\"currents CDF\", markerfacecolor='none')\n",
        "plt.plot(xss, yss, label=\"uniform\", markerfacecolor='none')\n",
        "plt.legend(loc='upper left')"
      ]
    },
    {
      "cell_type": "markdown",
      "metadata": {
        "id": "A_XjtGgApaMv"
      },
      "source": [
        "We can also use scipy.stats inbuilt `KS` routine and tell it we are comparing data to a uniform distribution."
      ]
    },
    {
      "cell_type": "code",
      "execution_count": 8,
      "metadata": {
        "scrolled": true,
        "id": "V_etF7uWpaMv",
        "outputId": "05d2f791-c6fb-42a6-8286-374c7c211a20",
        "colab": {
          "base_uri": "https://localhost:8080/"
        }
      },
      "outputs": [
        {
          "output_type": "execute_result",
          "data": {
            "text/plain": [
              "KstestResult(statistic=0.14500000000000002, pvalue=0.9863137403429703, statistic_location=1.46, statistic_sign=1)"
            ]
          },
          "metadata": {},
          "execution_count": 8
        }
      ],
      "source": [
        "# import package\n",
        "from scipy.stats import kstest\n",
        "import numpy as np\n",
        "import pylab as plt\n",
        "\n",
        "%matplotlib inline\n",
        "\n",
        "current = [1.41, 0.26, 1.97, 0.33, 0.55, 0.77, 1.46, 1.18]\n",
        "\n",
        "# run test of data against a uniform distribution\n",
        "# ks test outputs the $D$ statistic and a $p value$.\n",
        "\n",
        "kstest(current,'uniform',args=[0,2])"
      ]
    },
    {
      "cell_type": "markdown",
      "metadata": {
        "id": "x9yc3CVlpaMv"
      },
      "source": [
        "The function returns $D$, the maximum difference between the cumulative distribution (CDF) of the input data and the model (the uniform distribution). The second is the $p$-value, meaning the probability that if the data had actually been drawn from the proposed CDF, the resulting value of $D$ would have been as large or larger than the one we measured.\n",
        "\n",
        "This value of $p$ tells us that 99.6% of the time, we would expect a value of D as large as the one measured even if the data had been drawn from the uniform sample.   Thus we *can not reject the null hypothesis that the measured currents are drawn from a uniform distribution*."
      ]
    },
    {
      "cell_type": "markdown",
      "metadata": {
        "id": "vbTA_aXOpaMw"
      },
      "source": [
        "### Derivation: KS test"
      ]
    },
    {
      "cell_type": "markdown",
      "metadata": {
        "id": "K9g-376ZpaMw"
      },
      "source": [
        "To derive the KS test involves modelling the random walk of data, analogous to Brownian motion. The function that models this is given by\n",
        "\n",
        "$K(\\lambda)=2\\sum_{j=1}^{\\infty}(-1)\\,^{j-1}\\,e^{-2j^2\\lambda^2}$\n",
        "\n",
        "The significance level of an observed value of $D$ is given approximately by,\n",
        "\n",
        "$\\text{Prob}\\,(D>\\text{observed})=K\\left(\\left[\\sqrt{N_e}+0.12+ 0.11/\\sqrt{N_e}\\right]D\\right)$\n",
        "\n",
        "where $N_e$ is the effective number of data points: $N_e = N$ for the case where we have a single set of data points, but for two distributions this is given by\n",
        "\n",
        "$N_e=\\dfrac{N_1 N_2}{N_1+N_2}$"
      ]
    },
    {
      "cell_type": "markdown",
      "metadata": {
        "id": "BuxrPj9BpaMw"
      },
      "source": [
        "### Anderson Darling\n",
        "\n",
        "This is an improvement on the problems of the K-S test in the tails of the distributions. The Anderson-Darling test weights the data points away from the median. The statistic is given by:\n",
        "\n",
        "$A^2_{AD, N}=N\\sum_{i=1}^{N}\\dfrac{[i/N-S_N(x_i)]^2}{S_N(x_i)(1-S_N(x_i))}$\n",
        "\n",
        "which should be computed for *both* the observed data set and the null distribution. There is unfortunately no analytic form for the A-D test, and one instead needs to resort to numerical computation: one simply creates a suite of random draws of $N$  points from the null distribution to build up a pdf of $A^2_{AD,N}$. The observed value of $A^2_{AD,N}$ from the data set can then be compared to the probability of drawing the same value from the null, to decide whether to retain or reject the null hypothesis that the distributions are the same."
      ]
    },
    {
      "cell_type": "markdown",
      "metadata": {
        "id": "08SIAcwqpaMw"
      },
      "source": [
        "***"
      ]
    },
    {
      "cell_type": "markdown",
      "metadata": {
        "id": "e3JsjuSJpaMw"
      },
      "source": [
        "Now you are ready to tackle the **Chapter 5 quiz** on Learning Central and the [Chapter 5 yourturn notebook](https://github.com/haleygomez/Data-Science-2024/blob/main/blended_exercises/Chapter5/Chapter5_yourturn.ipynb)."
      ]
    }
  ],
  "metadata": {
    "kernelspec": {
      "display_name": "Python 3 (ipykernel)",
      "language": "python",
      "name": "python3"
    },
    "language_info": {
      "codemirror_mode": {
        "name": "ipython",
        "version": 3
      },
      "file_extension": ".py",
      "mimetype": "text/x-python",
      "name": "python",
      "nbconvert_exporter": "python",
      "pygments_lexer": "ipython3",
      "version": "3.9.13"
    },
    "colab": {
      "provenance": [],
      "name": "Chapter5.ipynb",
      "include_colab_link": true
    }
  },
  "nbformat": 4,
  "nbformat_minor": 0
}