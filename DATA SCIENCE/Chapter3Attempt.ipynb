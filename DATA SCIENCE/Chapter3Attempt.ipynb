{
  "cells": [
    {
      "cell_type": "markdown",
      "metadata": {
        "id": "K93b-4uBjDBl"
      },
      "source": [
        "# To be completed at the Live Session and in your own time.\n",
        "\n",
        "These set of examples we will help you get familiar with estimating probabilities and using Bayes Theorem within a Jupyter notebook.  The questions coloured green are important practice for CA.\n",
        "\n",
        "Before attempting these examples, please ensure you have read through [Chapter 3 Jupyter Notebook](https://github.com/haleygomez/Data-Science-2024/blob/main/blended_exercises/Chapter3/Chapter3.ipynb) and have completed the Learning Central **Chapter 3 quiz**.\n",
        "\n",
        "These are good practice for CA 1 Questions 2 and 3."
      ]
    },
    {
      "cell_type": "markdown",
      "metadata": {
        "id": "mMhbLNu1jDBu"
      },
      "source": [
        "***"
      ]
    },
    {
      "cell_type": "markdown",
      "metadata": {
        "id": "iqyFIN5sjDBy"
      },
      "source": [
        "# Probabilities"
      ]
    },
    {
      "cell_type": "markdown",
      "metadata": {
        "id": "6IA9T0Y-jDB1"
      },
      "source": [
        "## <font color=#30a64d>Question</font>"
      ]
    },
    {
      "cell_type": "markdown",
      "metadata": {
        "id": "18R2uiiFjDB3"
      },
      "source": [
        "You flip a coin 5 times. Use an appropriate probability function to estimate the probability that heads will **not** occur 3 times.  "
      ]
    },
    {
      "cell_type": "markdown",
      "metadata": {
        "id": "A3aLlmowjDB6"
      },
      "source": [
        "### Answer"
      ]
    },
    {
      "cell_type": "markdown",
      "metadata": {
        "id": "xVs_VVKEjDB9"
      },
      "source": [
        "*Your answer here.*"
      ]
    },
    {
      "cell_type": "code",
      "source": [
        "p_heads = 0.5\n",
        "p_tails = 0.5\n",
        "\n",
        "#using the bernoulli distribution\n",
        "p_3_heads = (p_heads**3) * (p_tails**2)\n",
        "print('Using Bernoulli distribution, the probability that heads will NOT occur 3 times is {:.2f}'.format(1-(p_3_heads)))"
      ],
      "metadata": {
        "id": "cxIbEbon-8R4",
        "outputId": "1b2c93c3-d49c-4189-eb47-d6ec08283b9e",
        "colab": {
          "base_uri": "https://localhost:8080/"
        }
      },
      "execution_count": 4,
      "outputs": [
        {
          "output_type": "stream",
          "name": "stdout",
          "text": [
            "Using Bernoulli distribution, the probability that heads will NOT occur 3 times is 0.97\n"
          ]
        }
      ]
    },
    {
      "cell_type": "markdown",
      "metadata": {
        "id": "fppInJ41jDCB"
      },
      "source": [
        "## <font color=#30a64d>Question</font>"
      ]
    },
    {
      "cell_type": "markdown",
      "metadata": {
        "id": "_RtQOGkNjDCD"
      },
      "source": [
        "The probability that a student is accepted to a prestigious university is 0.3. If 5 students from the same school apply, what is the probability that at most 2 are accepted?"
      ]
    },
    {
      "cell_type": "markdown",
      "metadata": {
        "id": "brM8puoQjDCG"
      },
      "source": [
        "### Answer"
      ]
    },
    {
      "cell_type": "markdown",
      "metadata": {
        "id": "85W3V9hbjDCI"
      },
      "source": [
        "*Your answer here.*"
      ]
    },
    {
      "cell_type": "markdown",
      "metadata": {
        "id": "9yrlHRjTjDCJ"
      },
      "source": [
        "***"
      ]
    },
    {
      "cell_type": "markdown",
      "metadata": {
        "id": "hViy8lvHjDCK"
      },
      "source": [
        "# Probability Distributions"
      ]
    },
    {
      "cell_type": "markdown",
      "metadata": {
        "id": "_xsnuZJpjDCR"
      },
      "source": [
        "## <font color=#30a64d>Question </fomt>"
      ]
    },
    {
      "cell_type": "markdown",
      "metadata": {
        "id": "k8VQznrtjDCS"
      },
      "source": [
        "What does the binomial distribution look like if the probability of success in $N=17$ trials is $\\theta = 0.7$?  "
      ]
    },
    {
      "cell_type": "markdown",
      "metadata": {
        "id": "CZTGtjI1jDCT"
      },
      "source": [
        "### Answer"
      ]
    },
    {
      "cell_type": "markdown",
      "metadata": {
        "id": "HrqNYtJYjDCY"
      },
      "source": [
        "*Your answer here.*"
      ]
    },
    {
      "cell_type": "markdown",
      "metadata": {
        "id": "bgoAW6WEjDCZ"
      },
      "source": [
        "## <font color=#30a64d> Question </font>"
      ]
    },
    {
      "cell_type": "markdown",
      "metadata": {
        "id": "orc9EuiKjDCa"
      },
      "source": [
        "Plot a normal distribution in python with mean = 8.0 and standard deviation = 2.0 over an x range `[0,16]`. Do this both by writing your own function and by using in-built Python routines.  \n",
        "\n",
        "Plot the CDF of the normal distribution using in-built python routines. Estimate the median."
      ]
    },
    {
      "cell_type": "markdown",
      "metadata": {
        "id": "goFQV_MtjDCc"
      },
      "source": [
        "### Answer"
      ]
    },
    {
      "cell_type": "markdown",
      "metadata": {
        "id": "72sWMUacjDCd"
      },
      "source": [
        "*Your answer here.*"
      ]
    },
    {
      "cell_type": "markdown",
      "metadata": {
        "id": "Pbgmag79jDCe"
      },
      "source": [
        "## Question"
      ]
    },
    {
      "cell_type": "markdown",
      "metadata": {
        "id": "lXK_EWoMjDCf"
      },
      "source": [
        "Let $X$ be a discrete random variable with range $X={1,2,3,...}$. Suppose the probability mass function (PMF) of $X$ is given by\n",
        "\n",
        "$P_X(k) = \\dfrac{1}{2^k}$ for $k={1,2,3,...}$\n",
        "\n",
        "1. Find $P(2<X\\le 5)$.\n",
        "2. Plot the CDF of $X$, $F_X(x)$ where $F_X(x) = \\dfrac{2^k-1}{2^k}$"
      ]
    },
    {
      "cell_type": "markdown",
      "metadata": {
        "id": "Ey87-HvXjDCg"
      },
      "source": [
        "### Answer"
      ]
    },
    {
      "cell_type": "markdown",
      "metadata": {
        "id": "IfNNCxlljDCh"
      },
      "source": [
        "*Your answer here.*"
      ]
    },
    {
      "cell_type": "markdown",
      "metadata": {
        "id": "zITWxGckjDCi"
      },
      "source": [
        "***"
      ]
    },
    {
      "cell_type": "markdown",
      "metadata": {
        "id": "wGkPRTALjDCk"
      },
      "source": [
        "# Best Estimates"
      ]
    },
    {
      "cell_type": "markdown",
      "metadata": {
        "id": "_fbcAZp5jDCl"
      },
      "source": [
        "## Question"
      ]
    },
    {
      "cell_type": "markdown",
      "metadata": {
        "id": "QSnxSnGhjDCo"
      },
      "source": [
        "Astronomers take an image of the galaxy M42 with a telescope to measure its brightness. But they find that the image has background light across the whole picture (we call this a positive background level) which affects the measured brightness of the galaxy. They want to subtract this level off the image.   They don't know whether the mean background value in the image or the median background value is a better estimate of the background.\n",
        "\n",
        "Take the image (available [here](https://github.com/haleygomez/Data-Science-2024/raw/main/blended_exercises/Chapter3/galaxym42.fits.fz), you will need to upload it to google colab) and plot a histogram of the brightness measured across the image. Overplot the mean and median values and decide which one provides the best measurement of the nuisance background light.<br><br>\n",
        "\n",
        "Tip: import the following `import matplotlib.pyplot as plt` and `from astropy.io import fits` and read in the image file of the galaxy using the following commands:\n",
        "\n",
        "`image_data = fits.getdata('galaxym42.fits.fz')`\n",
        "\n",
        "`histogram = plt.hist(image_data.flatten(),1000,histtype='bar')`"
      ]
    },
    {
      "cell_type": "markdown",
      "metadata": {
        "id": "JPlW07xxjDCq"
      },
      "source": [
        "### Answer"
      ]
    },
    {
      "cell_type": "markdown",
      "metadata": {
        "id": "_QppU8RZjDCr"
      },
      "source": [
        "*Your answer here.*"
      ]
    }
  ],
  "metadata": {
    "kernelspec": {
      "display_name": "Python 3 (ipykernel)",
      "language": "python",
      "name": "python3"
    },
    "language_info": {
      "codemirror_mode": {
        "name": "ipython",
        "version": 3
      },
      "file_extension": ".py",
      "mimetype": "text/x-python",
      "name": "python",
      "nbconvert_exporter": "python",
      "pygments_lexer": "ipython3",
      "version": "3.9.13"
    },
    "colab": {
      "provenance": []
    }
  },
  "nbformat": 4,
  "nbformat_minor": 0
}