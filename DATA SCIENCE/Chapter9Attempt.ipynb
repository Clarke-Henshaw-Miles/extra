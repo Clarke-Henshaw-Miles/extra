{
  "cells": [
    {
      "cell_type": "markdown",
      "metadata": {
        "id": "view-in-github",
        "colab_type": "text"
      },
      "source": [
        "<a href=\"https://colab.research.google.com/github/Clarke-Henshaw-Miles/extra/blob/master/DATA%20SCIENCE/Chapter9Attempt.ipynb\" target=\"_parent\"><img src=\"https://colab.research.google.com/assets/colab-badge.svg\" alt=\"Open In Colab\"/></a>"
      ]
    },
    {
      "cell_type": "markdown",
      "metadata": {
        "id": "e9mAK7oiSJUt"
      },
      "source": [
        "# To be completed at the Live Session and in your own time.\n",
        "\n",
        "These set of examples we will help you get familiar with non parametric tests and correlations within a Jupyter notebook.   The questions coloured green are important practice for CA.\n",
        "\n",
        "Before attempting these examples, please ensure you have read through [Chapter 9 Jupyter Notebook](https://github.com/haleygomez/Data-Science-2024/blob/main/blended_exercises/Chapter9/Chapter9.ipynb) and have completed the Learning Central **Chapter 9 quiz**."
      ]
    },
    {
      "cell_type": "markdown",
      "metadata": {
        "id": "yEQLMULUSJUv"
      },
      "source": [
        "***"
      ]
    },
    {
      "cell_type": "markdown",
      "metadata": {
        "id": "7aR87IuCSJUv"
      },
      "source": [
        "# MCMC Model and Data Comparison"
      ]
    },
    {
      "cell_type": "markdown",
      "metadata": {
        "id": "XtBNzFPUSJUv"
      },
      "source": [
        "## <font color=#30a64d>Question</font>"
      ]
    },
    {
      "cell_type": "markdown",
      "metadata": {
        "id": "2J5JIHY_SJUw"
      },
      "source": [
        "If you were asked to compare a model with some data using an MCMC, what function would you use as the likelihood when estimating the posterior probability distribution (prior $\\times$ likelihood)?"
      ]
    },
    {
      "cell_type": "markdown",
      "metadata": {
        "id": "xCcz-3lUSJUw"
      },
      "source": [
        "### Answer"
      ]
    },
    {
      "cell_type": "markdown",
      "metadata": {
        "id": "IJAy_wRRSJUw"
      },
      "source": [
        "*Your answer here*"
      ]
    },
    {
      "cell_type": "markdown",
      "metadata": {
        "id": "y03XQ-BOSJUw"
      },
      "source": [
        "***"
      ]
    },
    {
      "cell_type": "markdown",
      "metadata": {
        "id": "0dr0hHPkSJUw"
      },
      "source": [
        "# Fitting Data with a Model"
      ]
    },
    {
      "cell_type": "markdown",
      "metadata": {
        "id": "Kqr2pke5SJUx"
      },
      "source": [
        "## <font color=#4290C4>Question</font>"
      ]
    },
    {
      "cell_type": "markdown",
      "metadata": {
        "id": "7fuE6LRPSJUx"
      },
      "source": [
        "The government wants to investigate graduate earnings, and so they collect information on graduate earnings (in £1000s) compared to the average UK salary $y$ as well as the number of years after they graduated $x$. This data is found [here](https://github.com/haleygomez/Data-Science-2024/blob/main/blended_exercises/Chapter9/DataScience_datafile_2.dat).\n",
        "\n",
        "1. Perform a straight line fit, calculating, and reporting all the errors, testing if your fit is good.  \n",
        "\n",
        "2. Next perform a Monte Carlo process whereby you use random sampling to make numerical estimations of unknown parameters. Do this by randomly sampling the y values, using the given values and their errors to define the normal from which to sample.  Recalculate the slope and intersect from the new (randomly sampled) data set. Repeat this many different times, using the results of each fit to work out the mean and standard deviation for the fit parameters."
      ]
    },
    {
      "cell_type": "markdown",
      "metadata": {
        "id": "eg6GRENFSJUx"
      },
      "source": [
        "### Answer"
      ]
    },
    {
      "cell_type": "markdown",
      "metadata": {
        "id": "e8ydFWlISJUx"
      },
      "source": [
        "*Your answer here*"
      ]
    },
    {
      "cell_type": "markdown",
      "metadata": {
        "id": "5bF0ykA-SJUy"
      },
      "source": [
        "***"
      ]
    }
  ],
  "metadata": {
    "kernelspec": {
      "display_name": "Python 3 (ipykernel)",
      "language": "python",
      "name": "python3"
    },
    "language_info": {
      "codemirror_mode": {
        "name": "ipython",
        "version": 3
      },
      "file_extension": ".py",
      "mimetype": "text/x-python",
      "name": "python",
      "nbconvert_exporter": "python",
      "pygments_lexer": "ipython3",
      "version": "3.9.13"
    },
    "colab": {
      "provenance": [],
      "include_colab_link": true
    }
  },
  "nbformat": 4,
  "nbformat_minor": 0
}