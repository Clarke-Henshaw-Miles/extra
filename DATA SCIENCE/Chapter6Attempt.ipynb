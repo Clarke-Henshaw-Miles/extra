{
  "cells": [
    {
      "cell_type": "markdown",
      "metadata": {
        "id": "view-in-github",
        "colab_type": "text"
      },
      "source": [
        "<a href=\"https://colab.research.google.com/github/Clarke-Henshaw-Miles/extra/blob/master/DATA%20SCIENCE/Chapter6Attempt.ipynb\" target=\"_parent\"><img src=\"https://colab.research.google.com/assets/colab-badge.svg\" alt=\"Open In Colab\"/></a>"
      ]
    },
    {
      "cell_type": "markdown",
      "metadata": {
        "id": "KMJbUC92GIky"
      },
      "source": [
        "# To be completed at the Live Session and in your own time.\n",
        "\n",
        "These set of examples we will help you get familiar with non parametric tests and correlations within a Jupyter notebook.   The questions coloured green are important practice for CA, particularly CA 2.\n",
        "\n",
        "Before attempting these examples, please ensure you have read through [Chapter 6 Jupyter Notebook](https://github.com/haleygomez/Data-Science-2024/blob/main/blended_exercises/Chapter6/Chapter6.ipynb) and have completed the Learning Central **Chapter 6 quiz**."
      ]
    },
    {
      "cell_type": "markdown",
      "metadata": {
        "id": "8rrPF1YGGIk0"
      },
      "source": [
        "***"
      ]
    },
    {
      "cell_type": "markdown",
      "metadata": {
        "id": "46zN7Y-MGIk0"
      },
      "source": [
        "#  Credible Intervals"
      ]
    },
    {
      "cell_type": "markdown",
      "metadata": {
        "id": "xXilwdDrGIk1"
      },
      "source": [
        "## <font color=#30a64d>Question</font>"
      ]
    },
    {
      "cell_type": "markdown",
      "metadata": {
        "id": "ez1xAMbuGIk1"
      },
      "source": [
        "Professor Dumbledore, studying the extinction of dragons, discovers a new set of egg remnants in an unexplored valley in Madagascar. The remnants are radio carbon dated and found to have the following ages in years:\n",
        "\n",
        "2141.22, 1781.15, 1523.37, 1816.90, 1932.29, 1541.21, 720.782, 1026.22, 1687.22, 2460.59\n",
        "\n",
        "Professor Snape however did a previous study in the next valley where he found eggs that were on average 1200 years old, following a normal distribution with standard deviation of 300 years.\n",
        "\n",
        "1. What is the mean and standard deviation of the age of elephant bird eggs based on Dumbledore's data?\n",
        "\n",
        "2. Write down an analytical expression for the mean of the ages that takes into account both Professor Dumbledore's new data and the previous age estimate from Professor Snape. Estimate the variance in your mean value.\n",
        "\n",
        "3. Plot and discuss your results including a discussion of your methods."
      ]
    },
    {
      "cell_type": "markdown",
      "metadata": {
        "id": "ikmjNTtcGIk1"
      },
      "source": [
        "### Answer"
      ]
    },
    {
      "cell_type": "markdown",
      "source": [
        "### PART 1"
      ],
      "metadata": {
        "id": "USK5OdMbab1I"
      }
    },
    {
      "cell_type": "code",
      "source": [
        "import numpy as np\n",
        "import matplotlib.pyplot as plt\n",
        "from scipy.stats import norm\n",
        "\n",
        "#creating array for data\n",
        "age_yrs = [2141.22, 1781.15, 1523.37, 1816.90, 1932.29, 1541.21, 720.782, 1026.22, 1687.22, 2460.59]\n",
        "\n",
        "#calculating mean and standard deviation\n",
        "mean = np.mean(age_yrs)\n",
        "std = np.std(age_yrs)\n",
        "print(\"The mean for Dumbledore's data is {:.2f}\".format(mean))\n",
        "print(\"The standard deviation for Dumbledore's data is {:.2f}\".format(std))"
      ],
      "metadata": {
        "colab": {
          "base_uri": "https://localhost:8080/"
        },
        "id": "nmKgeqK0ZdwT",
        "outputId": "129d35a0-b5fc-4124-c843-8459e1de2bfe"
      },
      "execution_count": 7,
      "outputs": [
        {
          "output_type": "stream",
          "name": "stdout",
          "text": [
            "The mean for Dumbledore's data is 1663.10\n",
            "The standard deviation for Dumbledore's data is 479.92\n"
          ]
        }
      ]
    },
    {
      "cell_type": "markdown",
      "source": [
        "### PART 2"
      ],
      "metadata": {
        "id": "907US81SaeD6"
      }
    },
    {
      "cell_type": "code",
      "source": [],
      "metadata": {
        "id": "Ne8xVIwxafr-"
      },
      "execution_count": null,
      "outputs": []
    },
    {
      "cell_type": "markdown",
      "metadata": {
        "id": "0CbcnHXNGIk1"
      },
      "source": [
        "***"
      ]
    }
  ],
  "metadata": {
    "kernelspec": {
      "display_name": "Python 3 (ipykernel)",
      "language": "python",
      "name": "python3"
    },
    "language_info": {
      "codemirror_mode": {
        "name": "ipython",
        "version": 3
      },
      "file_extension": ".py",
      "mimetype": "text/x-python",
      "name": "python",
      "nbconvert_exporter": "python",
      "pygments_lexer": "ipython3",
      "version": "3.9.13"
    },
    "colab": {
      "provenance": [],
      "name": "Chapter6Attempt.ipynb",
      "include_colab_link": true
    }
  },
  "nbformat": 4,
  "nbformat_minor": 0
}