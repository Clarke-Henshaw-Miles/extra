{
  "cells": [
    {
      "cell_type": "markdown",
      "metadata": {
        "id": "view-in-github",
        "colab_type": "text"
      },
      "source": [
        "<a href=\"https://colab.research.google.com/github/Clarke-Henshaw-Miles/extra/blob/master/DATA%20SCIENCE/Chapter6Attempt.ipynb\" target=\"_parent\"><img src=\"https://colab.research.google.com/assets/colab-badge.svg\" alt=\"Open In Colab\"/></a>"
      ]
    },
    {
      "cell_type": "markdown",
      "metadata": {
        "id": "KMJbUC92GIky"
      },
      "source": [
        "# To be completed at the Live Session and in your own time.\n",
        "\n",
        "These set of examples we will help you get familiar with non parametric tests and correlations within a Jupyter notebook.   The questions coloured green are important practice for CA, particularly CA 2.\n",
        "\n",
        "Before attempting these examples, please ensure you have read through [Chapter 6 Jupyter Notebook](https://github.com/haleygomez/Data-Science-2024/blob/main/blended_exercises/Chapter6/Chapter6.ipynb) and have completed the Learning Central **Chapter 6 quiz**."
      ]
    },
    {
      "cell_type": "markdown",
      "metadata": {
        "id": "8rrPF1YGGIk0"
      },
      "source": [
        "***"
      ]
    },
    {
      "cell_type": "markdown",
      "metadata": {
        "id": "46zN7Y-MGIk0"
      },
      "source": [
        "#  Credible Intervals"
      ]
    },
    {
      "cell_type": "markdown",
      "metadata": {
        "id": "xXilwdDrGIk1"
      },
      "source": [
        "## <font color=#30a64d>Question</font>"
      ]
    },
    {
      "cell_type": "markdown",
      "metadata": {
        "id": "ez1xAMbuGIk1"
      },
      "source": [
        "Professor Dumbledore, studying the extinction of dragons, discovers a new set of egg remnants in an unexplored valley in Madagascar. The remnants are radio carbon dated and found to have the following ages in years:\n",
        "\n",
        "2141.22, 1781.15, 1523.37, 1816.90, 1932.29, 1541.21, 720.782, 1026.22, 1687.22, 2460.59\n",
        "\n",
        "Professor Snape however did a previous study in the next valley where he found eggs that were on average 1200 years old, following a normal distribution with standard deviation of 300 years.\n",
        "\n",
        "1. What is the mean and standard deviation of the age of elephant bird eggs based on Dumbledore's data?\n",
        "\n",
        "2. Write down an analytical expression for the mean of the ages that takes into account both Professor Dumbledore's new data and the previous age estimate from Professor Snape. Estimate the variance in your mean value.\n",
        "\n",
        "3. Plot and discuss your results including a discussion of your methods."
      ]
    },
    {
      "cell_type": "markdown",
      "metadata": {
        "id": "ikmjNTtcGIk1"
      },
      "source": [
        "### Answer"
      ]
    },
    {
      "cell_type": "markdown",
      "source": [
        "### PART 1"
      ],
      "metadata": {
        "id": "USK5OdMbab1I"
      }
    },
    {
      "cell_type": "code",
      "source": [
        "import numpy as np\n",
        "import matplotlib.pyplot as plt\n",
        "from scipy.stats import norm\n",
        "\n",
        "%matplotlib inline\n",
        "\n",
        "#creating array for dumbledore's data\n",
        "age_yrs = [2141.22, 1781.15, 1523.37, 1816.90, 1932.29, 1541.21, 720.782, 1026.22, 1687.22, 2460.59]\n",
        "n = len(age_yrs)\n",
        "print(\"There are {} data points\".format(n))\n",
        "\n",
        "#calculating mean and standard deviation\n",
        "mean_dumble = np.mean(age_yrs)\n",
        "std_dumble = np.std(age_yrs)\n",
        "var_dumble = std_dumble**2\n",
        "print(\"The mean for Dumbledore's data is {:.2f}\".format(mean_dumble))\n",
        "print(\"The standard deviation for Dumbledore's data is {:.2f}\".format(std_dumble))\n",
        "print(\"The variance for Dumbledore's data is {:.2f}\".format(var_dumble))"
      ],
      "metadata": {
        "colab": {
          "base_uri": "https://localhost:8080/"
        },
        "id": "nmKgeqK0ZdwT",
        "outputId": "d7a8c5e4-e481-4d35-974f-cf4f0c2e62af"
      },
      "execution_count": 10,
      "outputs": [
        {
          "output_type": "stream",
          "name": "stdout",
          "text": [
            "There are 10 data points\n",
            "The mean for Dumbledore's data is 1663.10\n",
            "The standard deviation for Dumbledore's data is 479.92\n",
            "The variance for Dumbledore's data is 230318.53\n"
          ]
        }
      ]
    },
    {
      "cell_type": "markdown",
      "source": [
        "### PART 2"
      ],
      "metadata": {
        "id": "907US81SaeD6"
      }
    },
    {
      "cell_type": "markdown",
      "source": [
        "The analytical expression for the mean of the ages for normal likelihood and normal prior:\n",
        "\n",
        "$\\hat{\\theta}=\\dfrac{\\sigma_0^2}{\\sigma_0^2+\\sigma^2/n}\\hat{X}+ \\dfrac{\\sigma^2/n}{\\sigma_0^2+\\sigma^2/n}\\mu_0$\n",
        "\n",
        "where:\n",
        "- $\\sigma_0$ = prior standard dev\n",
        "- $\\mu_0$ = prior mean\n",
        "- $\\hat{X}$ = mean of the sample\n",
        "\n",
        "depends on *both the mean and variance of the data*, $\\hat{X}~~\\text{and}~~\\sigma^2$, and *the mean and variance of the prior*, $\\mu_0~~\\text{and}~~\\sigma_0^2.$\n",
        "\n",
        "Snape's experiment = prior\n"
      ],
      "metadata": {
        "id": "aUfki56BOf1E"
      }
    },
    {
      "cell_type": "code",
      "source": [
        "#snape's findings\n",
        "mean_snape = 1200\n",
        "std_snape = 300\n",
        "var_snape = std_snape**2\n",
        "dist = norm(loc=mean_snape, scale=std_snape)\n",
        "\n",
        "# function for mean of posterior if posterior normal\n",
        "def post_mean(var_0,var,n,X,mu_0):\n",
        "    result = (var_0/ (var_0 + (var/n)) ) * X + ((var/n)/(var_0+(var/n)))*mu_0\n",
        "    return result\n",
        "\n",
        "# function for width (standard dev) of posterior if posterior normal\n",
        "def post_std(var_0,var,n):\n",
        "    result = np.sqrt((var_0*(var/n)) / (var_0 + (var/n)))\n",
        "    return result\n",
        "\n",
        "# set up an array\n",
        "d = np.linspace(600,2600,100)\n",
        "\n",
        "posterior_mean = post_mean(var_snape,var_dumble,n,mean_dumble,mean_snape)\n",
        "posterior_std = post_std(var_snape,var_dumble,n)\n",
        "print(\"The posterior mean is {:.2f}\".format(posterior_mean))\n",
        "print(\"The posterior standard deviation is {:.2f}\".format(posterior_std))\n"
      ],
      "metadata": {
        "colab": {
          "base_uri": "https://localhost:8080/"
        },
        "id": "Ne8xVIwxafr-",
        "outputId": "a8075661-7881-4b6b-8a67-fe531190733c"
      },
      "execution_count": 21,
      "outputs": [
        {
          "output_type": "stream",
          "name": "stdout",
          "text": [
            "The posterior mean is 1568.73\n",
            "The posterior standard deviation is 135.42\n"
          ]
        }
      ]
    },
    {
      "cell_type": "markdown",
      "source": [
        "### PART 3"
      ],
      "metadata": {
        "id": "Ckw5LccZScPH"
      }
    },
    {
      "cell_type": "code",
      "source": [
        "plt.figure(figsize=(20,6))\n",
        "# for plotting\n",
        "\n",
        "#histogram of data\n",
        "plt.subplot(131)\n",
        "plt.hist(age_yrs,density=True,label='data')\n",
        "plt.legend(loc='upper left',fontsize=14)\n",
        "plt.xlim(600,2600)\n",
        "plt.xlabel('Age (years)')\n",
        "plt.ylabel('PDF')\n"
      ],
      "metadata": {
        "id": "El8H9pbTSYl5",
        "outputId": "39d5a20c-78a4-46ec-c768-52c32af4678f",
        "colab": {
          "base_uri": "https://localhost:8080/",
          "height": 560
        }
      },
      "execution_count": 22,
      "outputs": [
        {
          "output_type": "execute_result",
          "data": {
            "text/plain": [
              "Text(0, 0.5, 'PDF')"
            ]
          },
          "metadata": {},
          "execution_count": 22
        },
        {
          "output_type": "display_data",
          "data": {
            "text/plain": [
              "<Figure size 2000x600 with 1 Axes>"
            ],
            "image/png": "[encoded data removed]"
          },
          "metadata": {}
        }
      ]
    },
    {
      "cell_type": "markdown",
      "metadata": {
        "id": "0CbcnHXNGIk1"
      },
      "source": [
        "***"
      ]
    }
  ],
  "metadata": {
    "kernelspec": {
      "display_name": "Python 3 (ipykernel)",
      "language": "python",
      "name": "python3"
    },
    "language_info": {
      "codemirror_mode": {
        "name": "ipython",
        "version": 3
      },
      "file_extension": ".py",
      "mimetype": "text/x-python",
      "name": "python",
      "nbconvert_exporter": "python",
      "pygments_lexer": "ipython3",
      "version": "3.9.13"
    },
    "colab": {
      "provenance": [],
      "name": "Chapter6Attempt.ipynb",
      "include_colab_link": true
    }
  },
  "nbformat": 4,
  "nbformat_minor": 0
}