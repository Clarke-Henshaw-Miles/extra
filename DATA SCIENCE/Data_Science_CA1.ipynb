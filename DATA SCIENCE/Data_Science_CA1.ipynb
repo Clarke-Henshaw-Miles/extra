{
  "nbformat": 4,
  "nbformat_minor": 0,
  "metadata": {
    "colab": {
      "provenance": [],
      "authorship_tag": "ABX9TyOnGGBp1IksEBUv6DYOxoJV",
      "include_colab_link": true
    },
    "kernelspec": {
      "name": "python3",
      "display_name": "Python 3"
    },
    "language_info": {
      "name": "python"
    }
  },
  "cells": [
    {
      "cell_type": "markdown",
      "metadata": {
        "id": "view-in-github",
        "colab_type": "text"
      },
      "source": [
        "<a href=\"https://colab.research.google.com/github/Clarke-Henshaw-Miles/extra/blob/master/DATA%20SCIENCE/Data_Science_CA1.ipynb\" target=\"_parent\"><img src=\"https://colab.research.google.com/assets/colab-badge.svg\" alt=\"Open In Colab\"/></a>"
      ]
    },
    {
      "cell_type": "code",
      "source": [
        "import numpy as np\n"
      ],
      "metadata": {
        "id": "Ub3p3LlE7doE"
      },
      "execution_count": 2,
      "outputs": []
    },
    {
      "cell_type": "markdown",
      "source": [
        "# QUESTION 1\n",
        "\n",
        "A student is taking three modules, and the probability that they pass any individual module depends on the fraction of the weekly live sessions they attend 𝑓 so that the probability of passing the module is 0.85𝑓.\n",
        "\n",
        "a.) If the student attends all the weekly live sessions, (𝑓 = 1), calculate the probability that they will\n",
        "\n",
        "(i) pass all three modules,\n",
        "\n",
        "(ii) fail one module and pass the other two,\n",
        "\n",
        "(iii) pass only one module,\n",
        "\n",
        "(iv) pass no modules.\n",
        "\n",
        "\n",
        "b.) Show that the sum of these four probabilities is 1.\n",
        "\n",
        "c.) Calculate the four probabilities on the assumption that the student attends only half of the weekly live sessions.\n",
        "\n",
        "d.) What fraction of weekly live sessions must the student attend to have a 50% chance of passing all three modules?\n",
        "\n",
        "e.) Is this a realistic way to model the probability that the student will pass the modules?\n",
        "\n",
        "[10 marks]"
      ],
      "metadata": {
        "id": "ZMfCn2f_6G6I"
      }
    },
    {
      "cell_type": "markdown",
      "source": [
        "###PART A"
      ],
      "metadata": {
        "id": "hEj8hlzY_k13"
      }
    },
    {
      "cell_type": "code",
      "execution_count": 19,
      "metadata": {
        "colab": {
          "base_uri": "https://localhost:8080/"
        },
        "id": "gVxrSf_S52Jm",
        "outputId": "2ad31861-9a57-4c64-b475-d44906b53683"
      },
      "outputs": [
        {
          "output_type": "stream",
          "name": "stdout",
          "text": [
            "If the student attends all the weekly live sessions (f=1):\n",
            "The probability of passing all three modules is 0.614\n",
            "The probability of passing two modules and failing one is 0.325\n",
            "The probability of passing only one module is 0.057\n",
            "THe probability of passing no modules is 0.003\n"
          ]
        }
      ],
      "source": [
        "#defining parameters\n",
        "f = 1 #fraction of weekly live sessions attended\n",
        "p_pass = 0.85*f #probability of failing\n",
        "p_fail = 1 - p_pass #probability of failing\n",
        "\n",
        "print('If the student attends all the weekly live sessions (f=1):')\n",
        "#part i\n",
        "p_pass_all = p_pass**3\n",
        "#only one combination in which this can happen\n",
        "print('The probability of passing all three modules is {:.3f}'.format(p_pass_all))\n",
        "\n",
        "#part ii\n",
        "p_fail_one = (p_fail * p_pass**2) * 3\n",
        "#there are three combinations when this can be the result so we need to multiply p_fail_one by 3\n",
        "print('The probability of passing two modules and failing one is {:.3f}'.format(p_fail_one))\n",
        "\n",
        "#part iii\n",
        "p_pass_one = (p_pass * p_fail**2) * 3\n",
        "#there are three combinations when this can be the result so we need to multiply p_pass_one by 3\n",
        "print('The probability of passing only one module is {:.3f}'.format(p_pass_one))\n",
        "\n",
        "#part iv\n",
        "p_pass_none = p_fail**3\n",
        "#only one combination in which this can happen\n",
        "print('THe probability of passing no modules is {:.3f}'.format(p_pass_none))"
      ]
    },
    {
      "cell_type": "markdown",
      "source": [
        "###PART B"
      ],
      "metadata": {
        "id": "0IxKG4wI_pZX"
      }
    },
    {
      "cell_type": "code",
      "source": [
        "total_p = np.sum([p_pass_all, p_fail_one, p_pass_one, p_pass_none])\n",
        "print('The sum of the four probabilities is {:.3f} as expected as we have considered every single possible outcome combination'.format(total_p))"
      ],
      "metadata": {
        "colab": {
          "base_uri": "https://localhost:8080/"
        },
        "id": "DCRqCqPJ7OhA",
        "outputId": "04c6b569-3140-426e-ed41-7e49abda41a5"
      },
      "execution_count": 14,
      "outputs": [
        {
          "output_type": "stream",
          "name": "stdout",
          "text": [
            "The sum of the four probabilities is 1.000 as expected as we have considered every single possible outcome combination\n"
          ]
        }
      ]
    },
    {
      "cell_type": "markdown",
      "source": [
        "###PART C"
      ],
      "metadata": {
        "id": "0NtaUhK6CNDr"
      }
    },
    {
      "cell_type": "code",
      "source": [
        "#if the student attends only half the weekly live sessions then we need to redefine f to be 0.5\n",
        "f = 0.5\n",
        "p_pass = 0.85*f\n",
        "p_fail = 1 - p_pass\n",
        "\n",
        "print('If the student attends half the weekly live sessions (f=0.5):')\n",
        "#part i\n",
        "p_pass_all = p_pass**3\n",
        "#only one combination in which this can happen\n",
        "print('The probability of passing all three modules is {:.3f}'.format(p_pass_all))\n",
        "\n",
        "#part ii\n",
        "p_fail_one = (p_fail * p_pass**2) * 3\n",
        "#there are three combinations when this can be the result so we need to multiply p_fail_one by 3\n",
        "print('The probability of passing two modules and failing one is {:.3f}'.format(p_fail_one))\n",
        "\n",
        "#part iii\n",
        "p_pass_one = (p_pass * p_fail**2) * 3\n",
        "#there are three combinations when this can be the result so we need to multiply p_pass_one by 3\n",
        "print('The probability of passing only one module is {:.3f}'.format(p_pass_one))\n",
        "\n",
        "#part iv\n",
        "p_pass_none = p_fail**3\n",
        "#only one combination in which this can happen\n",
        "print('The probability of passing no modules is {:.3f}'.format(p_pass_none))"
      ],
      "metadata": {
        "colab": {
          "base_uri": "https://localhost:8080/"
        },
        "id": "6rr7NhDK_zIz",
        "outputId": "ab1e6ded-787d-4cd3-97e5-158787409cfb"
      },
      "execution_count": 20,
      "outputs": [
        {
          "output_type": "stream",
          "name": "stdout",
          "text": [
            "If the student attends half the weekly live sessions (f=0.5):\n",
            "The probability of passing all three modules is 0.077\n",
            "The probability of passing two modules and failing one is 0.312\n",
            "The probability of passing only one module is 0.422\n",
            "The probability of passing no modules is 0.190\n"
          ]
        }
      ]
    },
    {
      "cell_type": "markdown",
      "source": [
        "###PART D"
      ],
      "metadata": {
        "id": "QZiWVElFETYH"
      }
    },
    {
      "cell_type": "code",
      "source": [
        "#rearrange equation for p_pass_all to make f the subject\n",
        "p_pass_all = 0.5\n",
        "f = (p_pass_all**(1/3))/0.85\n",
        "\n",
        "print('The fraction of weekly live sessions the student must attend to have a 50% chance of passing all three modules is {:.3f}'.format(f))"
      ],
      "metadata": {
        "colab": {
          "base_uri": "https://localhost:8080/"
        },
        "id": "SICDTE6SEZ0A",
        "outputId": "97206869-3259-4442-d852-fc6c2adf7189"
      },
      "execution_count": 24,
      "outputs": [
        {
          "output_type": "stream",
          "name": "stdout",
          "text": [
            "The fraction of weekly live sessions the student must attend to have a 50% chance of passing all three modules is 0.934\n"
          ]
        }
      ]
    },
    {
      "cell_type": "markdown",
      "source": [
        "###PART E"
      ],
      "metadata": {
        "id": "YR3h2klnGDuS"
      }
    },
    {
      "cell_type": "markdown",
      "source": [
        "\n",
        "e.) Is this a realistic way to model the probability that the student will pass the modules?"
      ],
      "metadata": {
        "id": "4rLMF0JaGJcX"
      }
    },
    {
      "cell_type": "markdown",
      "source": [],
      "metadata": {
        "id": "yYGSDlbUGLMd"
      }
    }
  ]
}