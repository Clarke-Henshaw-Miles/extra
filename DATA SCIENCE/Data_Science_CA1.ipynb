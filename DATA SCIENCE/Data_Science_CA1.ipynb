{
  "nbformat": 4,
  "nbformat_minor": 0,
  "metadata": {
    "colab": {
      "provenance": [],
      "authorship_tag": "ABX9TyMWcTDW2Zve+Qf8G8o0zwei",
      "include_colab_link": true
    },
    "kernelspec": {
      "name": "python3",
      "display_name": "Python 3"
    },
    "language_info": {
      "name": "python"
    }
  },
  "cells": [
    {
      "cell_type": "markdown",
      "metadata": {
        "id": "view-in-github",
        "colab_type": "text"
      },
      "source": [
        "<a href=\"https://colab.research.google.com/github/Clarke-Henshaw-Miles/extra/blob/master/DATA%20SCIENCE/Data_Science_CA1.ipynb\" target=\"_parent\"><img src=\"https://colab.research.google.com/assets/colab-badge.svg\" alt=\"Open In Colab\"/></a>"
      ]
    },
    {
      "cell_type": "code",
      "source": [
        "#importing the necessary libraries\n",
        "import numpy as np\n",
        "import matplotlib.pyplot as plt"
      ],
      "metadata": {
        "id": "Ub3p3LlE7doE"
      },
      "execution_count": 21,
      "outputs": []
    },
    {
      "cell_type": "markdown",
      "source": [
        "# QUESTION 1"
      ],
      "metadata": {
        "id": "jbeQbcaNMqZd"
      }
    },
    {
      "cell_type": "markdown",
      "source": [
        "A student is taking three modules, and the probability that they pass any individual module depends on the fraction of the weekly live sessions they attend $𝑓$ so that the probability of passing the module is $0.85𝑓$.\n",
        "\n",
        "a.) If the student attends all the weekly live sessions, ($𝑓 = 1$), calculate the probability that they will\n",
        "\n",
        "* (i) pass all three modules,\n",
        "\n",
        "* (ii) fail one module and pass the other two,\n",
        "\n",
        "* (iii) pass only one module,\n",
        "\n",
        "* (iv) pass no modules.\n",
        "\n",
        "\n",
        "b.) Show that the sum of these four probabilities is 1.\n",
        "\n",
        "c.) Calculate the four probabilities on the assumption that the student attends only half of the weekly live sessions.\n",
        "\n",
        "d.) What fraction of weekly live sessions must the student attend to have a 50% chance of passing all three modules?\n",
        "\n",
        "e.) Is this a realistic way to model the probability that the student will pass the modules?\n",
        "\n",
        "[10 marks]"
      ],
      "metadata": {
        "id": "ZMfCn2f_6G6I"
      }
    },
    {
      "cell_type": "markdown",
      "source": [
        "---"
      ],
      "metadata": {
        "id": "8NchEe9P5z4K"
      }
    },
    {
      "cell_type": "markdown",
      "source": [
        "### PART A"
      ],
      "metadata": {
        "id": "hEj8hlzY_k13"
      }
    },
    {
      "cell_type": "code",
      "execution_count": 22,
      "metadata": {
        "colab": {
          "base_uri": "https://localhost:8080/"
        },
        "id": "gVxrSf_S52Jm",
        "outputId": "38e97aab-3d5a-4824-b95d-39d3deb6492c"
      },
      "outputs": [
        {
          "output_type": "stream",
          "name": "stdout",
          "text": [
            "If the student attends all the weekly live sessions (f=1):\n",
            "The probability of passing all three modules is 0.614\n",
            "The probability of passing two modules and failing one is 0.325\n",
            "The probability of passing only one module is 0.057\n",
            "THe probability of passing no modules is 0.003\n"
          ]
        }
      ],
      "source": [
        "#defining parameters\n",
        "f = 1 #fraction of weekly live sessions attended\n",
        "p_pass = 0.85*f #probability of failing\n",
        "p_fail = 1 - p_pass #probability of failing\n",
        "\n",
        "print('If the student attends all the weekly live sessions (f=1):')\n",
        "#part i\n",
        "p_pass_all = p_pass**3\n",
        "#only one combination in which this can happen\n",
        "print('The probability of passing all three modules is {:.3f}'.format(p_pass_all))\n",
        "\n",
        "#part ii\n",
        "p_fail_one = (p_fail * p_pass**2) * 3\n",
        "#there are three combinations when this can be the result so we need to multiply p_fail_one by 3\n",
        "print('The probability of passing two modules and failing one is {:.3f}'.format(p_fail_one))\n",
        "\n",
        "#part iii\n",
        "p_pass_one = (p_pass * p_fail**2) * 3\n",
        "#there are three combinations when this can be the result so we need to multiply p_pass_one by 3\n",
        "print('The probability of passing only one module is {:.3f}'.format(p_pass_one))\n",
        "\n",
        "#part iv\n",
        "p_pass_none = p_fail**3\n",
        "#only one combination in which this can happen\n",
        "print('THe probability of passing no modules is {:.3f}'.format(p_pass_none))"
      ]
    },
    {
      "cell_type": "markdown",
      "source": [
        "### PART B"
      ],
      "metadata": {
        "id": "0IxKG4wI_pZX"
      }
    },
    {
      "cell_type": "code",
      "source": [
        "total_p = np.sum([p_pass_all, p_fail_one, p_pass_one, p_pass_none])\n",
        "print('The sum of the four probabilities is {:.3f} as expected as we have considered every single possible outcome combination'.format(total_p))"
      ],
      "metadata": {
        "colab": {
          "base_uri": "https://localhost:8080/"
        },
        "id": "DCRqCqPJ7OhA",
        "outputId": "ab03d981-1c09-4ace-eca1-518945a0cfd3"
      },
      "execution_count": 23,
      "outputs": [
        {
          "output_type": "stream",
          "name": "stdout",
          "text": [
            "The sum of the four probabilities is 1.000 as expected as we have considered every single possible outcome combination\n"
          ]
        }
      ]
    },
    {
      "cell_type": "markdown",
      "source": [
        "### PART C"
      ],
      "metadata": {
        "id": "0NtaUhK6CNDr"
      }
    },
    {
      "cell_type": "code",
      "source": [
        "#if the student attends only half the weekly live sessions then we need to redefine f to be 0.5\n",
        "f = 0.5\n",
        "p_pass = 0.85*f\n",
        "p_fail = 1 - p_pass\n",
        "\n",
        "print('If the student attends half the weekly live sessions (f=0.5):')\n",
        "#part i\n",
        "p_pass_all = p_pass**3\n",
        "#only one combination in which this can happen\n",
        "print('The probability of passing all three modules is {:.3f}'.format(p_pass_all))\n",
        "\n",
        "#part ii\n",
        "p_fail_one = (p_fail * p_pass**2) * 3\n",
        "#there are three combinations when this can be the result so we need to multiply p_fail_one by 3\n",
        "print('The probability of passing two modules and failing one is {:.3f}'.format(p_fail_one))\n",
        "\n",
        "#part iii\n",
        "p_pass_one = (p_pass * p_fail**2) * 3\n",
        "#there are three combinations when this can be the result so we need to multiply p_pass_one by 3\n",
        "print('The probability of passing only one module is {:.3f}'.format(p_pass_one))\n",
        "\n",
        "#part iv\n",
        "p_pass_none = p_fail**3\n",
        "#only one combination in which this can happen\n",
        "print('The probability of passing no modules is {:.3f}'.format(p_pass_none))"
      ],
      "metadata": {
        "colab": {
          "base_uri": "https://localhost:8080/"
        },
        "id": "6rr7NhDK_zIz",
        "outputId": "75debbe7-6f85-480f-f963-9d80af74338b"
      },
      "execution_count": 24,
      "outputs": [
        {
          "output_type": "stream",
          "name": "stdout",
          "text": [
            "If the student attends half the weekly live sessions (f=0.5):\n",
            "The probability of passing all three modules is 0.077\n",
            "The probability of passing two modules and failing one is 0.312\n",
            "The probability of passing only one module is 0.422\n",
            "The probability of passing no modules is 0.190\n"
          ]
        }
      ]
    },
    {
      "cell_type": "markdown",
      "source": [
        "### PART D"
      ],
      "metadata": {
        "id": "QZiWVElFETYH"
      }
    },
    {
      "cell_type": "code",
      "source": [
        "#rearrange equation for p_pass_all to make f the subject\n",
        "p_pass_all = 0.5\n",
        "f = (p_pass_all**(1/3))/0.85\n",
        "\n",
        "print('The fraction of weekly live sessions the student must attend to have a 50% chance of passing all three modules is {:.3f}'.format(f))"
      ],
      "metadata": {
        "colab": {
          "base_uri": "https://localhost:8080/"
        },
        "id": "SICDTE6SEZ0A",
        "outputId": "2db3bb6c-39b1-4d2b-b2c4-7f9895c10008"
      },
      "execution_count": 25,
      "outputs": [
        {
          "output_type": "stream",
          "name": "stdout",
          "text": [
            "The fraction of weekly live sessions the student must attend to have a 50% chance of passing all three modules is 0.934\n"
          ]
        }
      ]
    },
    {
      "cell_type": "markdown",
      "source": [
        "### PART E"
      ],
      "metadata": {
        "id": "YR3h2klnGDuS"
      }
    },
    {
      "cell_type": "markdown",
      "source": [
        "This model gives a simplified approach assuming a linear relationship to calculate the probabilities of passing modules based entirely on the student's attendance. However, there are many more considerations that should be taken into account to refine this model such as the module difficulty, the teaching quality and unforeseen individual circumstances that may affect certain students. So, although the model provides a simple framework, it has many limitations and a more complex approach taking into consideration other factors would provide a much more sophisticated model."
      ],
      "metadata": {
        "id": "yYGSDlbUGLMd"
      }
    },
    {
      "cell_type": "markdown",
      "source": [
        "---"
      ],
      "metadata": {
        "id": "-x9HWmWQJ_xA"
      }
    },
    {
      "cell_type": "markdown",
      "source": [
        "# QUESTION 2"
      ],
      "metadata": {
        "id": "NgyfP_RjKDuA"
      }
    },
    {
      "cell_type": "markdown",
      "source": [
        "A group researching cancer have previously found that the genetic marker D3 is a useful indication that a person will develop the more aggressive form of melanoma skin cancer, in that D3 is present in 65% of the aggressive cases. However the test is expensive. A rival group claim that the marker M23 is more sensitive than D3, and works out considerably cheaper to test for. The rival research team manage to get DNA samples from 7 patients with the aggressive form of the disease, all of whom test positive for the genetic marker M23. Based on these results, is M23 a better marker for the disease than D3?\n",
        "\n",
        "Give full mathematical working for your reasoning, and show labeled plots of the underlying functions.\n",
        "\n",
        "[20 marks]"
      ],
      "metadata": {
        "id": "o3X-vj69KJgs"
      }
    },
    {
      "cell_type": "markdown",
      "source": [
        "---"
      ],
      "metadata": {
        "id": "oC2LTz1_5yRm"
      }
    },
    {
      "cell_type": "markdown",
      "source": [
        "#### Marker D3:\n",
        "\n",
        "* Present in 65% of aggresive melanoma cases.\n",
        "\n",
        "* More expensive to test.\n",
        "\n",
        "#### Marker M23:\n",
        "\n",
        "* Claimed to be more sensitive than D3.\n",
        "\n",
        "* Less expensive to test.\n",
        "\n",
        "\n",
        "We have data on 7 patients with aggressive melanoma, all of whom tested positive for M23.\n",
        "\n",
        "To determine whether M23 is a better marker than D3, we can perform a hypothesis test.\n",
        "\n",
        "**Null hypothesis, $H_0$:**\n",
        "\n",
        "* M23 marker is no better than the D3 marker.\n",
        "\n",
        "  * ie, both markers should have the same probability of detecting the aggressive melanoma.\n",
        "\n",
        "  * $ P(M23$ detection$) = P(D3$ detection$) = 0.65 $\n",
        "\n",
        "**Alternative hypothesis, $H_1$:**\n",
        "\n",
        "* M23 marker is more sensitive than the D3 marker.\n",
        "\n",
        "We can use a binomial test to determine whether the observed result (7 out of 7 patients testing positive for M23) is significantly higher than what we would expect if M23 were as effective as D3.\n",
        "\n",
        "$P(ν$ detections in 7 patients) $= B_{7,0.65}(ν) = \\frac{7!}{ν!(7 - ν)!} (0.65)^{7}$\n",
        "\n"
      ],
      "metadata": {
        "id": "4by_uv8oioTJ"
      }
    },
    {
      "cell_type": "code",
      "source": [
        "from scipy.stats import binom\n",
        "\n",
        "#All 7 patients test positive\n",
        "mu = 7\n",
        "N = 7\n",
        "p_D3 = 0.65\n",
        "\n",
        "#Using the binomial probability distribution\n",
        "p_M23_7pos = binom.pmf(mu, N, p_D3)\n",
        "print('Probability of all 7 patients with aggressive melanoma testing positive for M23 marker is {:.3f}%'.format(p_M23_7pos*100))\n",
        "\n",
        "#Plotting the underlying functions\n",
        "x = range(8)\n",
        "plt.bar(x, binom.pmf(x, N, p_D3), color='g', label='M23 marker')\n",
        "plt.xlabel('Number of positive results')\n",
        "plt.ylabel('Probability')\n",
        "plt.title('Binomial Distribution of M23 marker (n=7, p=0.65)')\n",
        "plt.grid(alpha=0.5)\n",
        "plt.legend()\n",
        "plt.show()"
      ],
      "metadata": {
        "id": "HfGPlvm1JOfm",
        "colab": {
          "base_uri": "https://localhost:8080/",
          "height": 510
        },
        "outputId": "30b66ebd-3954-42eb-a918-ccc53bcb86ad"
      },
      "execution_count": 31,
      "outputs": [
        {
          "output_type": "stream",
          "name": "stdout",
          "text": [
            "Probability of all 7 patients with aggressive melanoma testing positive for M23 marker is 4.902%\n"
          ]
        },
        {
          "output_type": "display_data",
          "data": {
            "text/plain": [
              "<Figure size 640x480 with 1 Axes>"
            ],
            "image/png": "[encoded data removed]"
          },
          "metadata": {}
        }
      ]
    },
    {
      "cell_type": "markdown",
      "source": [
        "Using a significance level of $\\alpha= 0.05$,\n",
        "\n",
        "* $p < 0.05$: Our $p$-value ($0.049$) is less than 0.05 as so can be considered as statistically significant.\n",
        "\n",
        "* This indicates that there is strong evidence against the null hypothesis as we're saying there is less than a 5% probability that the null is correct (and the results are random).\n",
        "\n",
        "* Therefore, we can reject the null hypothesis and accept the alternative hypothesis that the M23 marker is more sensitive that the D3 marker."
      ],
      "metadata": {
        "id": "vecOuVSmyLk9"
      }
    },
    {
      "cell_type": "markdown",
      "source": [
        "---"
      ],
      "metadata": {
        "id": "tWTjmGiXNFQa"
      }
    },
    {
      "cell_type": "markdown",
      "source": [
        "# QUESTION 3"
      ],
      "metadata": {
        "id": "TJ278I4LMlLi"
      }
    },
    {
      "cell_type": "markdown",
      "source": [
        "A computer chip manufacturer suspects that roughly half of its latest batch of CPUs contains a flaw. The accounts department are clearly concerned, and are trying to predict how the fault will affect the number of customers returning products. How many CPUs from the batch would they need to examine to know the probability that any given CPU is faulty to better than 2.5%?\n",
        "\n",
        "\n",
        "Tip: think carefully about what you are trying to estimate here, you want the error in your success probability to be less than 2.5%.\n",
        "\n",
        "[15 marks]"
      ],
      "metadata": {
        "id": "TRDaf_bvMwE7"
      }
    },
    {
      "cell_type": "markdown",
      "source": [
        "---"
      ],
      "metadata": {
        "id": "YWWJADmq5wla"
      }
    },
    {
      "cell_type": "markdown",
      "source": [
        "The accounts department wants to estimate the proportion of faulty CPUs in their latest batch with a margin of error less than 2.5%. To achieve this, they need to determine the required sample size.\n",
        "\n",
        "We need to use the formula for a margin of error for a proportion in a binomial distribution.\n",
        "\n",
        "$E = Z \\sqrt{\\frac{p(1-p)}{n}}$\n",
        "\n",
        "where:\n",
        "\n",
        "* $E$ = Margin of error\n",
        "\n",
        "  * the maximum difference between the observed sample proportion and the true population proportion.\n",
        "\n",
        "  * We want the margin of error to be less than 2.5%.\n",
        "\n",
        "* $Z$ = Z-score corresponding to the desired confidence level\n",
        "\n",
        "  * For a 95% confidence level, $Z = 1.96$\n",
        "\n",
        "* $p$ = Estimated proportion of faulty CPUs\n",
        "  \n",
        "  * Manufacturer suspects half are faulty\n",
        "\n",
        "* $n$ = Sample size\n",
        "\n",
        "We want to solve for $n$ so we need to rearrange to make it the subject:\n",
        "\n",
        "$n = \\frac{Z^2 p(1-p)} {E^2}$\n",
        "\n"
      ],
      "metadata": {
        "id": "wpGf008j0tsI"
      }
    },
    {
      "cell_type": "code",
      "source": [
        "#Function to calculate required sample size for a given confidence level and margin of error\n",
        "def sample_size(p, Z, E):\n",
        "  s_size = (Z**2 * p * (1-p)) / E**2\n",
        "  return s_size\n",
        "\n",
        "#Given values\n",
        "p = 0.5  # Estimated proportion of faulty CPUs = half\n",
        "Z = 1.96  # Z-score for 95% confidence level = 1.96 sigma\n",
        "E = 0.025  # Margin of error = 2.5%\n",
        "\n",
        "#Calculate required sample size\n",
        "sample_size = sample_size(p, Z, E)\n",
        "print('Since the sample size must be an integer we round up to the next whole number as you cannot examine a fraction of a CPU.')\n",
        "print('So, the manufacturers need to examine {:.0f} CPUs from their latest batch to know the probability that any given CPU is faulty to better than 2.5%.'.format(sample_size))\n"
      ],
      "metadata": {
        "id": "93i2MdvDMnAI",
        "colab": {
          "base_uri": "https://localhost:8080/"
        },
        "outputId": "8378fc82-35d6-442f-b283-88daf5325940"
      },
      "execution_count": 27,
      "outputs": [
        {
          "output_type": "stream",
          "name": "stdout",
          "text": [
            "Since the sample size must be an integer we round up to the next whole number as you cannot examine a fraction of a CPU.\n",
            "So, the manufacturers need to examine 1537 CPUs from their latest batch to know the probability that any given CPU is faulty to better than 2.5%.\n"
          ]
        }
      ]
    },
    {
      "cell_type": "markdown",
      "source": [
        "---"
      ],
      "metadata": {
        "id": "6B4rZk1UNDsr"
      }
    },
    {
      "cell_type": "markdown",
      "source": [
        "# QUESTION 4"
      ],
      "metadata": {
        "id": "D3gGtLMgM2xm"
      }
    },
    {
      "cell_type": "markdown",
      "source": [
        "The state of Florida is thinking of relaxing its policy on alcohol sales, to allow supermarkets to sell hard alcohol, since the police predict that this can reduce violence. After some extensive polling, they find that only 35% and 10% of Republican and Independent voters are, respectively, behind the change in the law, while 80% of the Democrat voters are in favour. You are visiting the state, and ask a Police Officer what she thinks of the idea. They says they’re against the change to the law. What is the probability that they votes Democrat?\n",
        "\n",
        "You may assume that voting in the Florida polls that year was split in the following way: 40% Democrat and 36% Republican. You can also assume that Independent covers everything that is not Republican or Democrat.\n",
        "\n",
        "[25 marks]"
      ],
      "metadata": {
        "id": "bN4-IQ_ZM6ey"
      }
    },
    {
      "cell_type": "markdown",
      "source": [
        "---"
      ],
      "metadata": {
        "id": "uR9BB5815u1Q"
      }
    },
    {
      "cell_type": "markdown",
      "source": [
        "We need to use the standard form of Bayes Theorem which is given by:\n",
        "\n",
        "$P(A | B)   = \\dfrac{P(B | A) P(A)}{P(B)}$,\n",
        "\n",
        "where,\n",
        "\n",
        "$P(A | B)$\n",
        "\n",
        "* The probability that she is a democrat __given that__ she is voting against the new policy.\n",
        "\n",
        "  * What we are trying to calculate.\n",
        "\n",
        "$P(B | A)$\n",
        "\n",
        "* The probability of voting against the new law __given that__ they are a Democrat.\n",
        "\n",
        "$P(A)$\n",
        "\n",
        "* The probability of being a Democrat.\n",
        "\n",
        "$P(B)$\n",
        "\n",
        "* The probability of being against the new policy.\n"
      ],
      "metadata": {
        "id": "-GyLVdP2VeaH"
      }
    },
    {
      "cell_type": "code",
      "source": [
        "#Defining the voting split in Florida between Democrat, Republican and Independent\n",
        "p_dem = 0.4 #P(A)\n",
        "p_rep = 0.36\n",
        "p_ind = 1 - p_dem - p_rep\n",
        "\n",
        "#Probability of each party being in favour of the new law change\n",
        "p_for_dem = 0.8\n",
        "p_for_rep = 0.35\n",
        "p_for_ind = 0.1\n",
        "\n",
        "#Probability of each party being against the new policy\n",
        "p_against_dem = 1 - p_for_dem #P(B given A)\n",
        "p_against_rep = 1 - p_for_rep\n",
        "p_against_ind = 1 - p_for_ind\n",
        "\n",
        "#Calculating the proportion of people who are against the new policy regardless of their political views\n",
        "p_against = p_dem * (1 - p_for_dem) + p_rep * (1 - p_for_rep) + p_ind * (1 - p_for_ind) #P(B)\n",
        "\n",
        "#Police Officer is AGAINST the new policy\n",
        "#We want to calculate the probability that she is democrat GIVEN THAT she is voting against the new policy - P(A given B)\n",
        "#P(A | B) = P(B | A) * P(A) / P(B)\n",
        "p_dem_against = (p_against_dem * p_dem) / p_against\n",
        "print('The probability that the police officer votes Democrat GIVEN THAT she is against the new policy is {:.1%}'.format(p_dem_against))"
      ],
      "metadata": {
        "colab": {
          "base_uri": "https://localhost:8080/"
        },
        "id": "-BqzyIVpM3z3",
        "outputId": "e69e0f02-7354-4e69-83c1-55e7a8e8cf01"
      },
      "execution_count": 28,
      "outputs": [
        {
          "output_type": "stream",
          "name": "stdout",
          "text": [
            "The probability that the police officer votes Democrat GIVEN THAT she is against the new policy is 15.1%\n"
          ]
        }
      ]
    },
    {
      "cell_type": "markdown",
      "source": [
        "---"
      ],
      "metadata": {
        "id": "SOmiOGdJNHJv"
      }
    },
    {
      "cell_type": "markdown",
      "source": [
        "# QUESTION 5"
      ],
      "metadata": {
        "id": "vzFPSoDHNI1G"
      }
    },
    {
      "cell_type": "markdown",
      "source": [
        "Ten new recruits for a basketball team are timed (in secs) in running the 100 meters and 1,500m races to determine how fast they can run. The following results were obtained,\n",
        "\n",
        "| Distance | 1 | 2 | 3 | 4 | 5 | 6 | 7 | 8 | 9 | 10 |\n",
        "|-------|---|---|---|---|---|---|---|---|---|---|\n",
        "| 100m: | 11 | 12 | 12 | 13 | 13 | 15 | 11 | 16 | 11 | 12 |\n",
        "| 1500m: | 270 | 300 | 230 | 260 | 270 | 230 | 260 | 240 | 270 | 260 |\n",
        "\n",
        "What trends do we see in the data above? Are they significant? Use appropriate tests to answer this question.\n",
        "\n",
        "Please code your own statistical functions when answering this question. Please include any sources you have used to answer this question.\n",
        "\n",
        "[30 marks]"
      ],
      "metadata": {
        "id": "i0mise5aNVz5"
      }
    },
    {
      "cell_type": "markdown",
      "source": [
        "---"
      ],
      "metadata": {
        "id": "rDDYgIVO5s0G"
      }
    },
    {
      "cell_type": "code",
      "source": [
        "#Writing the data for 100m and 1500m times into arrays\n",
        "t_100m = [11, 12, 12, 13, 13, 15, 11, 16, 11, 12] #100m times\n",
        "t_1500m = [270, 300, 230, 260, 270, 230, 260, 240, 270, 260] #1500m times\n",
        "\n",
        "#Plotting the data to help visualize the relationship\n",
        "plt.plot(t_100m, t_1500m, 'rx', label='Data')\n",
        "plt.xlabel('100m Time (s)')\n",
        "plt.ylabel('1500m Time (s)')\n",
        "plt.title('100m vs 1500m Times')\n",
        "plt.grid(alpha=0.5)\n",
        "plt.legend()\n",
        "plt.show()"
      ],
      "metadata": {
        "colab": {
          "base_uri": "https://localhost:8080/",
          "height": 472
        },
        "id": "i_G9TTHsNKJ3",
        "outputId": "41e2594a-618b-4710-d537-3afc57eb3150"
      },
      "execution_count": 29,
      "outputs": [
        {
          "output_type": "display_data",
          "data": {
            "text/plain": [
              "<Figure size 640x480 with 1 Axes>"
            ],
            "image/png": "[encoded data removed]"
          },
          "metadata": {}
        }
      ]
    },
    {
      "cell_type": "markdown",
      "source": [
        "The data appears to be loosely monotonic.\n",
        "\n",
        "So we can use a non-parametric test:\n",
        "\n",
        "* Does not assume anything about the underlying distribution\n",
        "\n",
        "* Especially important as we have a small sample size and there seems to be an outlier.\n",
        "\n",
        "Use Spearman's rho correlation:\n",
        "\n",
        "* Measures monotonic association between 2 variable and relies on the rank order of the values.\n",
        "\n",
        "* Not restricted to only linear relationships.\n",
        "\n",
        "* Not so sensitive to outliers at the extremes at x and y because points are treated by their rank rather than their intrinsic value.\n",
        "\n",
        "\n",
        "In this case, there are ties (duplicates of x and y) and so the Spearman's rank correlation is given by:\n",
        "\n",
        "$\\rho_s=\\dfrac{\\sum_{i=1}^N\\,R(x_i)\\,R(y_i)-N(N+1)^2/4} {\\sqrt{\\sum_{i=1}^N\\,R(x_i)^2-N(N+1)^2/4}\\sqrt{\\sum_{i = 1}^N  \\,R(y_i)^2-N(N+1)^2/4}}$"
      ],
      "metadata": {
        "id": "wZv1T_2FIAQl"
      }
    },
    {
      "cell_type": "code",
      "source": [
        "from scipy.stats import rankdata\n",
        "\n",
        "def spearman_rho(t_100m, t_1500m):\n",
        "  n = len(t_100m)\n",
        "  rank_100m = rankdata(t_100m)\n",
        "  rank_1500m = rankdata(t_1500m)\n",
        "  numerator = np.sum(rank_100m * rank_1500m) - ((n * (n+1)**2) / 4)\n",
        "  denominator = np.sqrt((np.sum(rank_100m**2) - (n * (n+1)**2) / 4) * (np.sum(rank_1500m**2) - (n * (n+1)**2) / 4))\n",
        "  rho = numerator / denominator\n",
        "  return rho\n",
        "\n",
        "rho = spearman_rho(t_100m, t_1500m)\n",
        "print('The Spearman\\'s rank correlation coefficient is {:.3f}'.format(rho))"
      ],
      "metadata": {
        "colab": {
          "base_uri": "https://localhost:8080/"
        },
        "id": "BhCxWxaKMo05",
        "outputId": "c8451276-c22a-4cbe-aff3-4dcf79a28ea9"
      },
      "execution_count": 30,
      "outputs": [
        {
          "output_type": "stream",
          "name": "stdout",
          "text": [
            "The Spearman's rank correlation coefficient is -0.474\n"
          ]
        }
      ]
    },
    {
      "cell_type": "markdown",
      "source": [
        "A negative correlation coefficient of -0.474 indicates a fairly moderate, negative relationship. As the 100m time increases, the 1500m time tends to decrease (or vice versa)\n",
        "\n",
        "We need to perform a significance test to decide whether there is any or no evidence to suggest that linear correlation is present in the population.\n",
        "\n",
        "The __null hypothesis, $H_0$__, assumes that the samples are uncorrelated.\n",
        "\n",
        "The __alternative hypothesis, $H_1$__, assumes there is a correlation between the samples.\n",
        "\n",
        "The $R_s$ value we determined of $-0.474$ must be looked up on the the Spearman's ranked correlation significance table which can be found [here](https://psychologyalevel.com/aqa-psychology-revision-notes/research-methods/spearmans-rho-critical-values-table/).\n",
        "\n",
        "We are conducting a two-tailed test as the experimental hypothesis predicts a change in either direction.\n",
        "\n",
        "For Spearman's rho correlation, we do not need to subtract the degreees of freedom So, for a significance of $\\alpha=0.05$ and sample size of $N=10$, the critical value of the Spearman's rank correlation coefficient in the table is $R_s = 0.648$.\n",
        "\n",
        "Our results are statistically significant if the *observed value is equal to or greater than the critical value*.\n",
        "\n",
        "This is not the case as our observed value, $0.474$, is less than the critical value $0.648$. Therefore, we __cannot__ reject our null hypothesis.\n"
      ],
      "metadata": {
        "id": "yPAz9M2POzsw"
      }
    },
    {
      "cell_type": "markdown",
      "source": [
        "---"
      ],
      "metadata": {
        "id": "cwiu2bQWO903"
      }
    }
  ]
}