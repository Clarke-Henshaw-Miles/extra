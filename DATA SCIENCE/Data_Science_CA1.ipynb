{
  "nbformat": 4,
  "nbformat_minor": 0,
  "metadata": {
    "colab": {
      "provenance": [],
      "authorship_tag": "ABX9TyOf57A1xdHaQHp25uGtcxBQ",
      "include_colab_link": true
    },
    "kernelspec": {
      "name": "python3",
      "display_name": "Python 3"
    },
    "language_info": {
      "name": "python"
    }
  },
  "cells": [
    {
      "cell_type": "markdown",
      "metadata": {
        "id": "view-in-github",
        "colab_type": "text"
      },
      "source": [
        "<a href=\"https://colab.research.google.com/github/Clarke-Henshaw-Miles/extra/blob/master/DATA%20SCIENCE/Data_Science_CA1.ipynb\" target=\"_parent\"><img src=\"https://colab.research.google.com/assets/colab-badge.svg\" alt=\"Open In Colab\"/></a>"
      ]
    },
    {
      "cell_type": "code",
      "source": [
        "import numpy as np\n"
      ],
      "metadata": {
        "id": "Ub3p3LlE7doE"
      },
      "execution_count": 2,
      "outputs": []
    },
    {
      "cell_type": "markdown",
      "source": [
        "# QUESTION 1\n",
        "\n",
        "A student is taking three modules, and the probability that they pass any individual module depends on the fraction of the weekly live sessions they attend 𝑓 so that the probability of passing the module is 0.85𝑓.\n",
        "\n",
        "a.) If the student attends all the weekly live sessions, (𝑓 = 1), calculate the probability that they will\n",
        "\n",
        "(i) pass all three modules,\n",
        "\n",
        "(ii) fail one module and pass the other two,\n",
        "\n",
        "(iii) pass only one module,\n",
        "\n",
        "(iv) pass no modules.\n",
        "\n",
        "\n",
        "b.) Show that the sum of these four probabilities is 1.\n",
        "\n",
        "c.) Calculate the four probabilities on the assumption that the student attends only half of the weekly live sessions.\n",
        "\n",
        "d.) What fraction of weekly live sessions must the student attend to have a 50% chance of passing all three modules?\n",
        "\n",
        "e.) Is this a realistic way to model the probability that the student will pass the modules?\n",
        "\n",
        "[10 marks]"
      ],
      "metadata": {
        "id": "ZMfCn2f_6G6I"
      }
    },
    {
      "cell_type": "markdown",
      "source": [
        "###PART A"
      ],
      "metadata": {
        "id": "hEj8hlzY_k13"
      }
    },
    {
      "cell_type": "code",
      "execution_count": 11,
      "metadata": {
        "colab": {
          "base_uri": "https://localhost:8080/"
        },
        "id": "gVxrSf_S52Jm",
        "outputId": "0b07e8d1-2f4b-419c-e746-425ef1a2cb4c"
      },
      "outputs": [
        {
          "output_type": "stream",
          "name": "stdout",
          "text": [
            "Probability of passing all three modules is 0.614\n",
            "Probability of passing two modules and failing one is 0.325\n",
            "Probability of passing only one module is 0.057\n",
            "Probability of passing no modules is 0.003\n"
          ]
        }
      ],
      "source": [
        "#defining parameters\n",
        "f = 1 #fraction of weekly live sessions attended\n",
        "p_pass = 0.85*f #probability of failing\n",
        "p_fail = 1 - p_pass #probability of failing\n",
        "\n",
        "#part i\n",
        "p_pass_all = p_pass**3\n",
        "#only one combination in which this can happen\n",
        "print('Probability of passing all three modules is {:.3f}'.format(p_pass_all))\n",
        "\n",
        "#part ii\n",
        "p_fail_one = (p_fail * p_pass**2) * 3\n",
        "#there are three combinations when this can be the result so we need to multiply p_fail_one by 3\n",
        "print('Probability of passing two modules and failing one is {:.3f}'.format(p_fail_one))\n",
        "\n",
        "#part iii\n",
        "p_pass_one = (p_pass * p_fail**2) * 3\n",
        "#there are three combinations when this can be the result so we need to multiply p_pass_one by 3\n",
        "print('Probability of passing only one module is {:.3f}'.format(p_pass_one))\n",
        "\n",
        "#part iv\n",
        "p_pass_none = p_fail**3\n",
        "#only one combination in which this can happen\n",
        "print('Probability of passing no modules is {:.3f}'.format(p_pass_none))"
      ]
    },
    {
      "cell_type": "markdown",
      "source": [
        "###PART B"
      ],
      "metadata": {
        "id": "0IxKG4wI_pZX"
      }
    },
    {
      "cell_type": "code",
      "source": [
        "total_p = np.sum([p_pass_all, p_fail_one, p_pass_one, p_pass_none])\n",
        "print('The sum of the four probabilities is {:.3f} as expected as we have considered every single possible outcome combination'.format(total_p))"
      ],
      "metadata": {
        "colab": {
          "base_uri": "https://localhost:8080/"
        },
        "id": "DCRqCqPJ7OhA",
        "outputId": "04c6b569-3140-426e-ed41-7e49abda41a5"
      },
      "execution_count": 14,
      "outputs": [
        {
          "output_type": "stream",
          "name": "stdout",
          "text": [
            "The sum of the four probabilities is 1.000 as expected as we have considered every single possible outcome combination\n"
          ]
        }
      ]
    },
    {
      "cell_type": "code",
      "source": [],
      "metadata": {
        "id": "6rr7NhDK_zIz"
      },
      "execution_count": null,
      "outputs": []
    }
  ]
}