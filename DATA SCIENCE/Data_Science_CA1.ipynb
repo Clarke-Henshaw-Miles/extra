{
  "nbformat": 4,
  "nbformat_minor": 0,
  "metadata": {
    "colab": {
      "provenance": [],
      "authorship_tag": "ABX9TyNeYSnvPGiBZsmXUB+kQ2Ed",
      "include_colab_link": true
    },
    "kernelspec": {
      "name": "python3",
      "display_name": "Python 3"
    },
    "language_info": {
      "name": "python"
    }
  },
  "cells": [
    {
      "cell_type": "markdown",
      "metadata": {
        "id": "view-in-github",
        "colab_type": "text"
      },
      "source": [
        "<a href=\"https://colab.research.google.com/github/Clarke-Henshaw-Miles/extra/blob/master/DATA%20SCIENCE/Data_Science_CA1.ipynb\" target=\"_parent\"><img src=\"https://colab.research.google.com/assets/colab-badge.svg\" alt=\"Open In Colab\"/></a>"
      ]
    },
    {
      "cell_type": "code",
      "source": [
        "#importing the necessary libraries\n",
        "import numpy as np\n",
        "import matplotlib.pyplot as plt"
      ],
      "metadata": {
        "id": "Ub3p3LlE7doE"
      },
      "execution_count": 46,
      "outputs": []
    },
    {
      "cell_type": "markdown",
      "source": [
        "#QUESTION 1"
      ],
      "metadata": {
        "id": "jbeQbcaNMqZd"
      }
    },
    {
      "cell_type": "markdown",
      "source": [
        "A student is taking three modules, and the probability that they pass any individual module depends on the fraction of the weekly live sessions they attend 𝑓 so that the probability of passing the module is 0.85𝑓.\n",
        "\n",
        "a.) If the student attends all the weekly live sessions, (𝑓 = 1), calculate the probability that they will\n",
        "\n",
        "(i) pass all three modules,\n",
        "\n",
        "(ii) fail one module and pass the other two,\n",
        "\n",
        "(iii) pass only one module,\n",
        "\n",
        "(iv) pass no modules.\n",
        "\n",
        "\n",
        "b.) Show that the sum of these four probabilities is 1.\n",
        "\n",
        "c.) Calculate the four probabilities on the assumption that the student attends only half of the weekly live sessions.\n",
        "\n",
        "d.) What fraction of weekly live sessions must the student attend to have a 50% chance of passing all three modules?\n",
        "\n",
        "e.) Is this a realistic way to model the probability that the student will pass the modules?\n",
        "\n",
        "[10 marks]"
      ],
      "metadata": {
        "id": "ZMfCn2f_6G6I"
      }
    },
    {
      "cell_type": "markdown",
      "source": [
        "###PART A"
      ],
      "metadata": {
        "id": "hEj8hlzY_k13"
      }
    },
    {
      "cell_type": "code",
      "execution_count": 30,
      "metadata": {
        "colab": {
          "base_uri": "https://localhost:8080/"
        },
        "id": "gVxrSf_S52Jm",
        "outputId": "021d5352-a33d-4150-c7d1-f547e39be635"
      },
      "outputs": [
        {
          "output_type": "stream",
          "name": "stdout",
          "text": [
            "If the student attends all the weekly live sessions (f=1):\n",
            "The probability of passing all three modules is 0.614\n",
            "The probability of passing two modules and failing one is 0.325\n",
            "The probability of passing only one module is 0.057\n",
            "THe probability of passing no modules is 0.003\n"
          ]
        }
      ],
      "source": [
        "#defining parameters\n",
        "f = 1 #fraction of weekly live sessions attended\n",
        "p_pass = 0.85*f #probability of failing\n",
        "p_fail = 1 - p_pass #probability of failing\n",
        "\n",
        "print('If the student attends all the weekly live sessions (f=1):')\n",
        "#part i\n",
        "p_pass_all = p_pass**3\n",
        "#only one combination in which this can happen\n",
        "print('The probability of passing all three modules is {:.3f}'.format(p_pass_all))\n",
        "\n",
        "#part ii\n",
        "p_fail_one = (p_fail * p_pass**2) * 3\n",
        "#there are three combinations when this can be the result so we need to multiply p_fail_one by 3\n",
        "print('The probability of passing two modules and failing one is {:.3f}'.format(p_fail_one))\n",
        "\n",
        "#part iii\n",
        "p_pass_one = (p_pass * p_fail**2) * 3\n",
        "#there are three combinations when this can be the result so we need to multiply p_pass_one by 3\n",
        "print('The probability of passing only one module is {:.3f}'.format(p_pass_one))\n",
        "\n",
        "#part iv\n",
        "p_pass_none = p_fail**3\n",
        "#only one combination in which this can happen\n",
        "print('THe probability of passing no modules is {:.3f}'.format(p_pass_none))"
      ]
    },
    {
      "cell_type": "markdown",
      "source": [
        "###PART B"
      ],
      "metadata": {
        "id": "0IxKG4wI_pZX"
      }
    },
    {
      "cell_type": "code",
      "source": [
        "total_p = np.sum([p_pass_all, p_fail_one, p_pass_one, p_pass_none])\n",
        "print('The sum of the four probabilities is {:.3f} as expected as we have considered every single possible outcome combination'.format(total_p))"
      ],
      "metadata": {
        "colab": {
          "base_uri": "https://localhost:8080/"
        },
        "id": "DCRqCqPJ7OhA",
        "outputId": "b088a233-f2e7-4fb4-d715-e6d4be1af5b0"
      },
      "execution_count": 31,
      "outputs": [
        {
          "output_type": "stream",
          "name": "stdout",
          "text": [
            "The sum of the four probabilities is 1.000 as expected as we have considered every single possible outcome combination\n"
          ]
        }
      ]
    },
    {
      "cell_type": "markdown",
      "source": [
        "###PART C"
      ],
      "metadata": {
        "id": "0NtaUhK6CNDr"
      }
    },
    {
      "cell_type": "code",
      "source": [
        "#if the student attends only half the weekly live sessions then we need to redefine f to be 0.5\n",
        "f = 0.5\n",
        "p_pass = 0.85*f\n",
        "p_fail = 1 - p_pass\n",
        "\n",
        "print('If the student attends half the weekly live sessions (f=0.5):')\n",
        "#part i\n",
        "p_pass_all = p_pass**3\n",
        "#only one combination in which this can happen\n",
        "print('The probability of passing all three modules is {:.3f}'.format(p_pass_all))\n",
        "\n",
        "#part ii\n",
        "p_fail_one = (p_fail * p_pass**2) * 3\n",
        "#there are three combinations when this can be the result so we need to multiply p_fail_one by 3\n",
        "print('The probability of passing two modules and failing one is {:.3f}'.format(p_fail_one))\n",
        "\n",
        "#part iii\n",
        "p_pass_one = (p_pass * p_fail**2) * 3\n",
        "#there are three combinations when this can be the result so we need to multiply p_pass_one by 3\n",
        "print('The probability of passing only one module is {:.3f}'.format(p_pass_one))\n",
        "\n",
        "#part iv\n",
        "p_pass_none = p_fail**3\n",
        "#only one combination in which this can happen\n",
        "print('The probability of passing no modules is {:.3f}'.format(p_pass_none))"
      ],
      "metadata": {
        "colab": {
          "base_uri": "https://localhost:8080/"
        },
        "id": "6rr7NhDK_zIz",
        "outputId": "b937a1d2-9057-4ab7-ddba-157942697ded"
      },
      "execution_count": 32,
      "outputs": [
        {
          "output_type": "stream",
          "name": "stdout",
          "text": [
            "If the student attends half the weekly live sessions (f=0.5):\n",
            "The probability of passing all three modules is 0.077\n",
            "The probability of passing two modules and failing one is 0.312\n",
            "The probability of passing only one module is 0.422\n",
            "The probability of passing no modules is 0.190\n"
          ]
        }
      ]
    },
    {
      "cell_type": "markdown",
      "source": [
        "###PART D"
      ],
      "metadata": {
        "id": "QZiWVElFETYH"
      }
    },
    {
      "cell_type": "code",
      "source": [
        "#rearrange equation for p_pass_all to make f the subject\n",
        "p_pass_all = 0.5\n",
        "f = (p_pass_all**(1/3))/0.85\n",
        "\n",
        "print('The fraction of weekly live sessions the student must attend to have a 50% chance of passing all three modules is {:.3f}'.format(f))"
      ],
      "metadata": {
        "colab": {
          "base_uri": "https://localhost:8080/"
        },
        "id": "SICDTE6SEZ0A",
        "outputId": "b77de672-9804-4dac-c171-aab3f7c867f4"
      },
      "execution_count": 33,
      "outputs": [
        {
          "output_type": "stream",
          "name": "stdout",
          "text": [
            "The fraction of weekly live sessions the student must attend to have a 50% chance of passing all three modules is 0.934\n"
          ]
        }
      ]
    },
    {
      "cell_type": "markdown",
      "source": [
        "###PART E"
      ],
      "metadata": {
        "id": "YR3h2klnGDuS"
      }
    },
    {
      "cell_type": "markdown",
      "source": [
        "This model gives a simplified approach assuming a linear relationship to calculate the probabilities of passing modules based entirely on the student's attendance. However, there are many more considerations that should be taken into account to refine this model such as the module difficulty, the teaching quality and unforeseen individual circumstances that may affect certain students. So, although the model provides a simple framework, it has many limitations and a more complex approach taking into consideration other factors would provide a much more sophisticated model."
      ],
      "metadata": {
        "id": "yYGSDlbUGLMd"
      }
    },
    {
      "cell_type": "markdown",
      "source": [
        "---"
      ],
      "metadata": {
        "id": "-x9HWmWQJ_xA"
      }
    },
    {
      "cell_type": "markdown",
      "source": [
        "#QUESTION 2"
      ],
      "metadata": {
        "id": "NgyfP_RjKDuA"
      }
    },
    {
      "cell_type": "markdown",
      "source": [
        "A group researching cancer have previously found that the genetic marker D3 is a useful indication that a person will develop the more aggressive form of melanoma skin cancer, in that D3 is present in 65% of the aggressive cases. However the test is expensive. A rival group claim that the marker M23 is more sensitive than D3, and works out considerably cheaper to test for. The rival research team manage to get DNA samples from 7 patients with the aggressive form of the disease, all of whom test positive for the genetic marker M23. Based on these results, is M23 a better marker for the disease than D3?\n",
        "\n",
        "Give full mathematical working for your reasoning, and show labeled plots of the underlying functions.\n",
        "\n",
        "[20 marks]"
      ],
      "metadata": {
        "id": "o3X-vj69KJgs"
      }
    },
    {
      "cell_type": "markdown",
      "source": [
        "#CHAPTER 4\n",
        "#HYPOTHESIS TEST\n"
      ],
      "metadata": {
        "id": "x3Lzz6aGovy5"
      }
    },
    {
      "cell_type": "code",
      "source": [],
      "metadata": {
        "id": "HfGPlvm1JOfm"
      },
      "execution_count": 33,
      "outputs": []
    },
    {
      "cell_type": "markdown",
      "source": [
        "---"
      ],
      "metadata": {
        "id": "tWTjmGiXNFQa"
      }
    },
    {
      "cell_type": "markdown",
      "source": [
        "# QUESTION 3"
      ],
      "metadata": {
        "id": "TJ278I4LMlLi"
      }
    },
    {
      "cell_type": "markdown",
      "source": [
        "A computer chip manufacturer suspects that roughly half of its latest batch of CPUs contains a flaw. The accounts department are clearly concerned, and are trying to predict how the fault will affect the number of customers returning products. How many CPUs from the batch would they need to examine to know the probability that any given CPU is faulty to better than 2.5%?\n",
        "\n",
        "\n",
        "Tip: think carefully about what you are trying to estimate here, you want the error in your success probability to be less than 2.5%.\n",
        "\n",
        "[15 marks]"
      ],
      "metadata": {
        "id": "TRDaf_bvMwE7"
      }
    },
    {
      "cell_type": "markdown",
      "source": [
        "#CHAPTER 4\n",
        "#CONFIDENCE TEST"
      ],
      "metadata": {
        "id": "3AJTgqOnoPfe"
      }
    },
    {
      "cell_type": "code",
      "source": [],
      "metadata": {
        "id": "93i2MdvDMnAI"
      },
      "execution_count": 33,
      "outputs": []
    },
    {
      "cell_type": "markdown",
      "source": [
        "---"
      ],
      "metadata": {
        "id": "6B4rZk1UNDsr"
      }
    },
    {
      "cell_type": "markdown",
      "source": [
        "# QUESTION 4"
      ],
      "metadata": {
        "id": "D3gGtLMgM2xm"
      }
    },
    {
      "cell_type": "markdown",
      "source": [
        "The state of Florida is thinking of relaxing its policy on alcohol sales, to allow supermarkets to sell hard alcohol, since the police predict that this can reduce violence. After some extensive polling, they find that only 35% and 10% of Republican and Independent voters are, respectively, behind the change in the law, while 80% of the Democrat voters are in favour. You are visiting the state, and ask a Police Officer what she thinks of the idea. They says they’re against the change to the law. What is the probability that they votes Democrat?\n",
        "\n",
        "You may assume that voting in the Florida polls that year was split in the following way: 40% Democrat and 36% Republican. You can also assume that Independent covers everything that is not Republican or Democrat.\n",
        "\n",
        "[25 marks]"
      ],
      "metadata": {
        "id": "bN4-IQ_ZM6ey"
      }
    },
    {
      "cell_type": "markdown",
      "source": [
        "We need to use the standard form of Bayes Theorem which is given by:\n",
        "\n",
        "$P(A | B)   = \\dfrac{P(B | A) P(A)}{P(B)}$,\n",
        "\n",
        "where,\n",
        "\n",
        "$P(A | B)$\n",
        "* The probability that she is a democrat __given that__ she is voting against the new policy.\n",
        "  * What we are trying to calculate.\n",
        "\n",
        "$P(B | A)$\n",
        "* The probability of voting against the new law __given that__ they are a Democrat.\n",
        "\n",
        "$P(A)$\n",
        "* The probability of being a Democrat.\n",
        "\n",
        "$P(B)$\n",
        "* The probability of being against the new policy.\n"
      ],
      "metadata": {
        "id": "-GyLVdP2VeaH"
      }
    },
    {
      "cell_type": "code",
      "source": [
        "#Defining the voting split in Florida between Democrat, Republican and Independent\n",
        "p_dem = 0.4 #P(A)\n",
        "p_rep = 0.36\n",
        "p_ind = 1 - p_dem - p_rep\n",
        "\n",
        "#Probability of each party being in favour of the new law change\n",
        "p_for_dem = 0.8\n",
        "p_for_rep = 0.35\n",
        "p_for_ind = 0.1\n",
        "\n",
        "#Probability of each party being against the new policy\n",
        "p_against_dem = 1 - p_for_dem #P(B given A)\n",
        "p_against_rep = 1 - p_for_rep\n",
        "p_against_ind = 1 - p_for_ind\n",
        "\n",
        "#Calculating the proportion of people who are against the new policy regardless of their political views\n",
        "p_against = p_dem * (1 - p_for_dem) + p_rep * (1 - p_for_rep) + p_ind * (1 - p_for_ind) #P(B)\n",
        "\n",
        "#Police Officer is AGAINST the new policy\n",
        "#We want to calculate the probability that she is democrat GIVEN THAT she is voting against the new policy - P(A given B)\n",
        "#P(A | B) = P(B | A) * P(A) / P(B)\n",
        "p_dem_against = (p_against_dem * p_dem) / p_against\n",
        "print('The probability that the police officer votes Democrat GIVEN THAT she is against the new policy is {:.1%}'.format(p_dem_against))"
      ],
      "metadata": {
        "colab": {
          "base_uri": "https://localhost:8080/"
        },
        "id": "-BqzyIVpM3z3",
        "outputId": "a97e2b49-a17e-4941-d280-9443459480f4"
      },
      "execution_count": 45,
      "outputs": [
        {
          "output_type": "stream",
          "name": "stdout",
          "text": [
            "The probability that the police officer votes Democrat GIVEN THAT she is against the new policy is 15.1%\n"
          ]
        }
      ]
    },
    {
      "cell_type": "markdown",
      "source": [
        "---"
      ],
      "metadata": {
        "id": "SOmiOGdJNHJv"
      }
    },
    {
      "cell_type": "markdown",
      "source": [
        "# QUESTION 5"
      ],
      "metadata": {
        "id": "vzFPSoDHNI1G"
      }
    },
    {
      "cell_type": "markdown",
      "source": [
        "Ten new recruits for a basketball team are timed (in secs) in running the 100 meters and 1,500m races to determine how fast they can run. The following results were obtained,\n",
        "\n",
        "| Distance | 1 | 2 | 3 | 4 | 5 | 6 | 7 | 8 | 9 | 10 |\n",
        "|-------|---|---|---|---|---|---|---|---|---|---|\n",
        "| 100m: | 11 | 12 | 12 | 13 | 13 | 15 | 11 | 16 | 11 | 12 |\n",
        "| 1500m: | 270 | 300 | 230 | 260 | 270 | 230 | 260 | 240 | 270 | 260 |\n",
        "\n",
        "What trends do we see in the data above? Are they significant? Use appropriate tests to answer this question.\n",
        "\n",
        "Please code your own statistical functions when answering this question. Please include any sources you have used to answer this question.\n",
        "\n",
        "[30 marks]"
      ],
      "metadata": {
        "id": "i0mise5aNVz5"
      }
    },
    {
      "cell_type": "markdown",
      "source": [
        "#CHAPTER 4 & 5?"
      ],
      "metadata": {
        "id": "u5FhMGrKpgQE"
      }
    },
    {
      "cell_type": "code",
      "source": [
        "#Writing the data for 100m and 1500m times into arrays\n",
        "one_m = [11, 12, 12, 13, 13, 15, 11, 16, 11, 12]\n",
        "fifteen_m = [270, 300, 230, 260, 270, 230, 260, 240, 270, 260]\n",
        "\n",
        "#Plotting the data\n",
        "plt.plot(one_m, fifteen_m, 'bx', label='Data')\n",
        "plt.xlabel('100m time (s)')\n",
        "plt.ylabel('1500m Time (s)')\n",
        "plt.title('100m vs 1500m Times')\n",
        "plt.grid()\n",
        "plt.legend()\n",
        "plt.show()"
      ],
      "metadata": {
        "colab": {
          "base_uri": "https://localhost:8080/",
          "height": 472
        },
        "id": "i_G9TTHsNKJ3",
        "outputId": "6f46cb88-3847-4aa3-824a-e757fca0eb40"
      },
      "execution_count": 55,
      "outputs": [
        {
          "output_type": "display_data",
          "data": {
            "text/plain": [
              "<Figure size 640x480 with 1 Axes>"
            ],
            "image/png": "[encoded data removed]"
          },
          "metadata": {}
        }
      ]
    },
    {
      "cell_type": "markdown",
      "source": [
        "---"
      ],
      "metadata": {
        "id": "cwiu2bQWO903"
      }
    }
  ]
}