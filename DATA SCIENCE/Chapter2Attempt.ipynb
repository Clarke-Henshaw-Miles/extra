{
  "cells": [
    {
      "cell_type": "markdown",
      "metadata": {
        "id": "zOwj9vqpWbmI"
      },
      "source": [
        "# To be completed at the Live Session and in your own time.\n",
        "\n",
        "These set of examples we will help you get familiar with estimating probabilities and using Bayes Theorem within a Jupyter notebook. The questions coloured green are important practice for CA.\n",
        "\n",
        "Before attempting these examples, please ensure you have read through [Chapter 2 Jupyter Notebook](https://github.com/haleygomez/Data-Science-2024/blob/main/blended_exercises/Chapter2/Chapter2.ipynb) and have completed the Learning Central **Chapter 2 quiz**.\n",
        "\n",
        "These are good practice for CA 1 Questions 1 and 4."
      ]
    },
    {
      "cell_type": "markdown",
      "metadata": {
        "id": "h3K8WclVWbmM"
      },
      "source": [
        "***"
      ]
    },
    {
      "cell_type": "markdown",
      "metadata": {
        "id": "vCq1YfhRWbmN"
      },
      "source": [
        "# Probabilities"
      ]
    },
    {
      "cell_type": "markdown",
      "metadata": {
        "id": "QjpHIZPcWbmO"
      },
      "source": [
        "***"
      ]
    },
    {
      "cell_type": "markdown",
      "metadata": {
        "id": "f6nGXb9dWbmP"
      },
      "source": [
        "## Question"
      ]
    },
    {
      "cell_type": "markdown",
      "metadata": {
        "id": "WNvWhrU8WbmP"
      },
      "source": [
        "You want to send a document to your bank and it is very important it gets there the next day. You therefore send two copies of the document using Hermes (delivery service $A$) and the Royal Mail (delivery service $B$).  The probabilities of those companies delivering on time are:\n",
        "\n",
        "- 0.90 for service A\n",
        "- 0.80 for service B\n",
        "- 0.75 for both services being on time.\n",
        "\n",
        "Does your strategy improve the chances the document will be delivered on time?"
      ]
    },
    {
      "cell_type": "markdown",
      "metadata": {
        "id": "6UwbID2bWbmQ"
      },
      "source": [
        "### Answer"
      ]
    },
    {
      "cell_type": "markdown",
      "metadata": {
        "id": "b9y85LeeWbmR"
      },
      "source": [
        "*Your answer here.*"
      ]
    },
    {
      "cell_type": "code",
      "source": [
        "p_a = 0.9\n",
        "p_b = 0.8\n",
        "p_ab = 0.75\n",
        "p_a_and_b = p_b * p_a\n",
        "p_a_or_b = p_a + p_b - p_a_and_b\n",
        "print(\"The probability of delivering on time increases to {:.2f}\" .format(p_a_or_b))"
      ],
      "metadata": {
        "colab": {
          "base_uri": "https://localhost:8080/"
        },
        "id": "C1MCIreOcIuc",
        "outputId": "4635a290-0fb0-4f39-8d9c-1c6a37665011"
      },
      "execution_count": 13,
      "outputs": [
        {
          "output_type": "stream",
          "name": "stdout",
          "text": [
            "The probability of delivering on time increases to 0.98\n"
          ]
        }
      ]
    },
    {
      "cell_type": "markdown",
      "metadata": {
        "id": "DH1DH0UjWbmS"
      },
      "source": [
        "***"
      ]
    },
    {
      "cell_type": "markdown",
      "metadata": {
        "id": "lRysfYWnWbmS"
      },
      "source": [
        "## <font color=#30a64d>Question</font>"
      ]
    },
    {
      "cell_type": "markdown",
      "metadata": {
        "id": "oFpkMnOSWbmT"
      },
      "source": [
        "You flip a coin 5 times. What is the probability that heads will not occur 3 times?    "
      ]
    },
    {
      "cell_type": "markdown",
      "metadata": {
        "id": "io7821meWbmT"
      },
      "source": [
        "### Answer"
      ]
    },
    {
      "cell_type": "markdown",
      "metadata": {
        "id": "hTfvRG2jWbmU"
      },
      "source": [
        "*Your answer here.*"
      ]
    },
    {
      "cell_type": "code",
      "source": [
        "p_heads = 0.5\n",
        "p_tails = 1 - p_heads\n",
        "p_3_heads = p_heads*p_heads*p_heads\n",
        "p_not_3_heads = 1 - p_3_heads\n",
        "print(\"The probability that heads will not occur 3 times is {:.2f}\" .format(p_not_3_heads))"
      ],
      "metadata": {
        "colab": {
          "base_uri": "https://localhost:8080/"
        },
        "id": "_AztsPCLiTt6",
        "outputId": "e2375a22-988d-4211-917d-65c354c2465e"
      },
      "execution_count": 19,
      "outputs": [
        {
          "output_type": "stream",
          "name": "stdout",
          "text": [
            "The probability that heads will not occur 3 times is 0.88\n"
          ]
        }
      ]
    },
    {
      "cell_type": "markdown",
      "metadata": {
        "id": "Ls2QWYJkWbmU"
      },
      "source": [
        "***"
      ]
    },
    {
      "cell_type": "markdown",
      "metadata": {
        "id": "Mj9b5j0cWbmV"
      },
      "source": [
        "# Bayes Theorem"
      ]
    },
    {
      "cell_type": "markdown",
      "metadata": {
        "id": "PGSW5xgFWbmV"
      },
      "source": [
        "## <font color=#30a64d>Question</font>"
      ]
    },
    {
      "cell_type": "markdown",
      "metadata": {
        "id": "z1hu_oiAWbmW"
      },
      "source": [
        "Suppose you think you have a rare disease where 1 in 10,000 people are affected. You go to your doctor, and she performs a test. The test is of a high quality, and is correct 99% of the time.\n",
        "\n",
        "Unfortunately your results come back positive for the disease. What is your chance of having the disease? Is it (roughly): <br><br>\n",
        "\n",
        "a) 99% <br>\n",
        "b) 90% <br>\n",
        "c) 10% or <br>\n",
        "d) 1%? <br> <br>\n",
        "\n",
        "Repeat the same as above, but change 1 in 10,000 to 1 in 100. What would the chances of having the disease be now?"
      ]
    },
    {
      "cell_type": "markdown",
      "metadata": {
        "id": "dTlUcG1BWbmW"
      },
      "source": [
        "### Answer"
      ]
    },
    {
      "cell_type": "markdown",
      "metadata": {
        "id": "yjlP9FcqWbmX"
      },
      "source": [
        "*Your answer here.*"
      ]
    },
    {
      "cell_type": "code",
      "source": [
        "p_disease = 1/10000 #A\n",
        "p_no_disease = 1 - p_disease\n",
        "p_correct_test = 0.99 #B given A\n",
        "p_incorrect_test = 1 - p_correct_test\n",
        "#prob disease GIVEN positive test result\n",
        "p_B = (p_correct_test * p_disease) + (p_incorrect_test * p_no_disease)\n",
        "print(p_B)\n",
        "p_A_given_B = (p_correct_test*p_disease) / p_B\n",
        "print(\"The chances of having the disease is {:.2f}\" .format(p_A_given_B))"
      ],
      "metadata": {
        "colab": {
          "base_uri": "https://localhost:8080/"
        },
        "id": "XpcuZ2bvi7re",
        "outputId": "f0c42f33-d119-4966-bd16-9d1c9cccde7a"
      },
      "execution_count": 26,
      "outputs": [
        {
          "output_type": "stream",
          "name": "stdout",
          "text": [
            "0.01009800000000001\n",
            "The chances of having the disease is 0.01\n"
          ]
        }
      ]
    },
    {
      "cell_type": "code",
      "source": [
        "p_newdisease = 1/100 #A\n",
        "p_no_newdisease = 1 - p_newdisease\n",
        "p_B = (p_correct_test * p_newdisease) + (p_incorrect_test * p_no_newdisease)\n",
        "p_A_given_B = (p_correct_test*p_newdisease) / p_B\n",
        "print(\"The chances of having the disease is {:.2f}\" .format(p_A_given_B))\n",
        "\n"
      ],
      "metadata": {
        "id": "KfczlBe12epX",
        "outputId": "a9eb5ac1-a330-4aa4-e6ae-6a7fd9e09ecd",
        "colab": {
          "base_uri": "https://localhost:8080/"
        }
      },
      "execution_count": 29,
      "outputs": [
        {
          "output_type": "stream",
          "name": "stdout",
          "text": [
            "The chances of having the disease is 0.50\n"
          ]
        }
      ]
    },
    {
      "cell_type": "markdown",
      "metadata": {
        "id": "e9gYKNToWbmX"
      },
      "source": [
        "## Question"
      ]
    },
    {
      "cell_type": "markdown",
      "metadata": {
        "id": "pCA5QPwTWbmY"
      },
      "source": [
        "We saw in [Chapter 2 Notebook](https://github.com/haleygomez/Data-Science-2024/blob/master/blended_exercises/Chapter2/Chapter2.ipynb) that the probability that a couple has 2 children that are boys when the older child is a boy is 50%.\n",
        "\n",
        "What about the following scenario: a couple has two children, of which at least one is a boy. If the probabilities of having a boy or a girl are both 50%, what is the probability that the couple has two boys?\n",
        "\n",
        "At first glance, this appears to be asking the same question as in our previous notebook. We might reason as follows: “We know that one is a boy, so the only question is whether the other one is a boy, and the chances of that being the case are 50%. So again, the answer is 50%.”\n",
        "\n",
        "Although this sounds common sense, it is incorrect.  Show why."
      ]
    },
    {
      "cell_type": "markdown",
      "metadata": {
        "id": "JPBK9q4iWbmZ"
      },
      "source": [
        "### Answer"
      ]
    },
    {
      "cell_type": "markdown",
      "metadata": {
        "id": "pE_LX4LCWbmZ"
      },
      "source": [
        "*Your answer here.*"
      ]
    },
    {
      "cell_type": "markdown",
      "source": [
        "* Previous problem, we know the older child is a boy\n",
        "* Current problem, we know at least one child is a boy\n",
        "\n",
        "####Three possibilities:\n",
        "1. BB\n",
        "2. BG\n",
        "3. GB\n",
        "\n",
        "Probability of BB (both boys) is $1/3$ which is different from the previous problem where it was $1/2$ as we knew the older child was a boy which eliminated the BG option."
      ],
      "metadata": {
        "id": "81-g9SNcxpYL"
      }
    },
    {
      "cell_type": "code",
      "source": [],
      "metadata": {
        "id": "xIeFOEDW2_OL"
      },
      "execution_count": null,
      "outputs": []
    }
  ],
  "metadata": {
    "kernelspec": {
      "display_name": "Python 3 (ipykernel)",
      "language": "python",
      "name": "python3"
    },
    "language_info": {
      "codemirror_mode": {
        "name": "ipython",
        "version": 3
      },
      "file_extension": ".py",
      "mimetype": "text/x-python",
      "name": "python",
      "nbconvert_exporter": "python",
      "pygments_lexer": "ipython3",
      "version": "3.9.13"
    },
    "colab": {
      "provenance": []
    }
  },
  "nbformat": 4,
  "nbformat_minor": 0
}