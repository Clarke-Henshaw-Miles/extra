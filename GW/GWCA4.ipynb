{
  "nbformat": 4,
  "nbformat_minor": 0,
  "metadata": {
    "colab": {
      "provenance": [],
      "authorship_tag": "ABX9TyM4TGmP7PGgbCwGPMsLs30B",
      "include_colab_link": true
    },
    "kernelspec": {
      "name": "python3",
      "display_name": "Python 3"
    },
    "language_info": {
      "name": "python"
    }
  },
  "cells": [
    {
      "cell_type": "markdown",
      "metadata": {
        "id": "view-in-github",
        "colab_type": "text"
      },
      "source": [
        "<a href=\"https://colab.research.google.com/github/Clarke-Henshaw-Miles/extra/blob/master/GW/GWCA4.ipynb\" target=\"_parent\"><img src=\"https://colab.research.google.com/assets/colab-badge.svg\" alt=\"Open In Colab\"/></a>"
      ]
    },
    {
      "cell_type": "markdown",
      "source": [
        "# PX4195: Gravitational-Wave Detectors\n",
        "## Homework 4\n",
        "### Miles Clarke-Henshaw"
      ],
      "metadata": {
        "id": "N7fmwXfhpC12"
      }
    },
    {
      "cell_type": "markdown",
      "source": [
        "## QUESTION 1\n",
        "### Fabry-Perot cavity (50%)\n",
        "\n",
        "Assume a 2-mirror Fabry-Perot cavity with a laser shining light onto mirror M1 (with power transmissivity T1), a distance of 1 meter between mirrors M1 and M2, and mirror M2 with a Reflectivity of R2 = 95 %. Assume further that the cavity is on resonance with the laser.\n",
        "\n",
        "**a)** What is the free spectral range (FSR) of the cavity?\n",
        "\n",
        "**b)** How can the formula for the power buildup in a cavity (P1/P0 or Pcav/Pin) be simplified for cavities that are on resonance with the laser light? What does it mean to be on resonance?\n",
        "\n",
        "**c)** Using the formula for the cavity power buildup on resonance, plot the buildup factor (P1/P0) as function of the power transmissivity T1 of mirror M1. (You can use any plotting tool of your choice for this. Make sure to have enough precision in the calculation.)\n",
        "\n",
        "**d)** If the goal is to have the maximum power in the cavity, then what should the value T1 of mirror M1 be? (You can just read the value from your plot or calculate it otherwise, as you wish.)\n",
        "\n",
        "**e)** What is the Full Width Half Maximum (FWHM) of the cavity for the chosen value of T1?\n",
        "\n",
        "**f)** What is the Finesse of this cavity?\n"
      ],
      "metadata": {
        "id": "AxZbnAg3pa0l"
      }
    },
    {
      "cell_type": "markdown",
      "source": [
        "### a)\n",
        "FSR is the spacing between 2 peaks.\n",
        "Assuming the cavity is on resonance with the laser we can say $2kl = 2n\\pi$, with the spacing between two neighboring peaks given as $kl = \\pi$ because the number of waves inside the cavity si integer at resonance.\n",
        "\n",
        "We can substitute in the wavespeed equation, $v = f\\lambda$, to give $\\frac{2\\pi}{\\lambda}L = \\pi$.\n",
        "\n",
        "Because L, the distance between the two mirrors, is a constant, we can fix it and actuate the laser wavelength (frequency):\n",
        "\n",
        "$\\Delta v = \\frac{c}{2L} = \\frac{3\\times10^8ms^{-1}}{2 \\times 1m}$\n",
        "\n",
        "which gives us the Free Spectral Range, $v_{FSR} = 1.5\\times10^8Hz$."
      ],
      "metadata": {
        "id": "9cgj206fvCal"
      }
    },
    {
      "cell_type": "markdown",
      "source": [
        "### b)\n",
        "The cavity power enhancement equation is:\n",
        "\n",
        "$\\frac{P_{cav}}{P_{in}} = \\frac{t_1^2}{1+R_1R_2-2r_1r_2cos(2kl)}$\n",
        "\n",
        "${P_{cav}}/{P_{in}}$ can be simplified for cavities that are on resonance with the laser light as they are maximised when $cos(2kl) = 1$ where $2kl = 2n\\pi$ giving:\n",
        "\n",
        "$\\frac{P_{cav}}{P_{in}} = \\frac{t_1^2}{1+R_1R_2-2r_1r_2}$\n",
        "\n",
        "When a cavity is on resonance it means the round-trip phase shift of the light within the cavity is an integer multiple of 2π. This constructive interference leads to a significant buildup of optical power within the cavity.\n"
      ],
      "metadata": {
        "id": "N2mDDsZo0PN5"
      }
    },
    {
      "cell_type": "markdown",
      "source": [
        "### c)\n",
        "Using the formula for the cavity power buildup on resonance, plot the buildup factor (P1/P0) as function of the power transmissivity T1 of mirror M1. (You can use any plotting tool of your choice for this. Make sure to have enough precision in the calculation.)\n",
        "\n",
        "The formula for the cavity power buildup on resonance from the previous part is:\n",
        "\n",
        "$\\frac{P_{cav}}{P_{in}} = \\frac{t_1^2}{1+R_1R_2-2r_1r_2}$\n",
        "\n",
        "We can make use of the fact that $r_1^2 = 1 - t_1^2$ and hence $R_1 = 1 - T_1$ and we are also given that $r_2^2 = R_2 = 0.95$ in the question. Substituting these results into the above equation gives:\n",
        "\n",
        "$\\frac{P_{cav}}{P_{in}} = \\frac{t_1^2}{1+(1-T_1)0.95 -2\\sqrt{1-T_1}\\sqrt{0.95}}$\n",
        "\n",
        "Plotting the buildup factor as a function of the power transmissivity of mirror 1:"
      ],
      "metadata": {
        "id": "WjOVDXhp5A_q"
      }
    },
    {
      "cell_type": "code",
      "source": [
        "import numpy as np\n",
        "import matplotlib.pyplot as plt\n",
        "%matplotlib inline\n",
        "\n"
      ],
      "metadata": {
        "id": "ytvcwooc-DuW"
      },
      "execution_count": null,
      "outputs": []
    },
    {
      "cell_type": "markdown",
      "source": [
        "## QUESTION 2\n",
        "### Gaussian beams (50%)\n",
        "\n",
        "RELEVANT FORMULAS:\n",
        "$w(z) = w_0 \\sqrt{1 + (\\frac{z}{z_R})^2}$\n",
        "\n",
        "$z_R = \\frac{\\pi w_0^2}{\\lambda}$\n",
        "\n",
        "$\\frac{P_{out}}{P_0} = e^{-\\frac{2r^2}{w^2}}$\n",
        "\n",
        "TianQin is a Chinese proposal of a space mission for detecting gravitational waves with three satellites sending each other laser beams. The satellites would orbit earth in an equilateral triangle and the distance between each pair of spacecraft would be about 170,000 km. Assume a laser wavelength of 1064 nm, a laser power of 1W and a beam waist size (for sub-problems a) and b) and e)) of 1 m at a sending spacecraft.\n",
        "\n",
        "**a)** What is the Raleigh range ($z_R$) of the laser beams?\n",
        "\n",
        "**b)** What is the beam size at the receiving spacecraft?\n",
        "\n",
        "**c)** Plot the beam size at a receiving spacecraft as function of the beam size at the sending spacecraft.\n",
        "\n",
        "**d)** What is the optimal beam size at the sending spacecraft if the receiving spacecraft should receive a beam that is as small as possible? (you can read the value from your graph.)\n",
        "\n",
        "**e)**What is the laser power that a receiving spacecraft collects for a receiving telescope that has a circular collection area of 1 m diameter? (You can use the initial beam waist size of 1 m for this.)\n"
      ],
      "metadata": {
        "id": "6aIMrp29qg5t"
      }
    },
    {
      "cell_type": "code",
      "source": [],
      "metadata": {
        "id": "iw4jhs5WtexG"
      },
      "execution_count": null,
      "outputs": []
    }
  ]
}