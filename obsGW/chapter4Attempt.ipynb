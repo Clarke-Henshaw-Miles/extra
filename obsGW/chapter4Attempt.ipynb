{
  "cells": [
    {
      "cell_type": "markdown",
      "metadata": {
        "id": "view-in-github",
        "colab_type": "text"
      },
      "source": [
        "<a href=\"https://colab.research.google.com/github/Clarke-Henshaw-Miles/extra/blob/master/obsGW/Chapter4Attempt.ipynb\" target=\"_parent\"><img src=\"https://colab.research.google.com/assets/colab-badge.svg\" alt=\"Open In Colab\"/></a>"
      ]
    },
    {
      "cell_type": "markdown",
      "metadata": {
        "id": "9pTT9TLduLxl"
      },
      "source": [
        "# To be completed at the Live Session and in your own time.\n",
        "\n",
        "These set of examples we will help you get familiar with estimating probabilities and using Bayes Theorem within a Jupyter notebook.  The questions coloured green are important practice for CA.\n",
        "\n",
        "Before attempting these examples, please ensure you have read through [Chapter 4 Jupyter Notebook](https://github.com/haleygomez/Data-Science-2024/blob/main/blended_exercises/Chapter4/Chapter4.ipynb) and have completed the Learning Central **Chapter 4 quiz**.\n",
        "\n",
        "These are good practice for CA 1 Question 5."
      ]
    },
    {
      "cell_type": "markdown",
      "metadata": {
        "id": "QXvpyNEMuLxn"
      },
      "source": [
        "***"
      ]
    },
    {
      "cell_type": "markdown",
      "metadata": {
        "id": "P5J_jezDuLxn"
      },
      "source": [
        "# Errors"
      ]
    },
    {
      "cell_type": "markdown",
      "metadata": {
        "id": "lvUyn6xnuLxn"
      },
      "source": [
        "## Question"
      ]
    },
    {
      "cell_type": "markdown",
      "metadata": {
        "id": "zOfvQEtZuLxo"
      },
      "source": [
        "Three students measure the same resistance several times, with final measurements (in Ohms):\n",
        "\n",
        "Student 1: $R = 11 \\pm 1$\n",
        "Student 2: $R = 12 \\pm 1$\n",
        "Student 3: $R = 10 \\pm 3$.\n",
        "\n",
        "Given these three results what do we write down as the best estimate for the resistance $R$? Tip: you will need to use weighted errors."
      ]
    },
    {
      "cell_type": "markdown",
      "metadata": {
        "id": "eMAoSOCLuLxo"
      },
      "source": [
        "### Answer"
      ]
    },
    {
      "cell_type": "markdown",
      "metadata": {
        "id": "URtItinAuLxo"
      },
      "source": [
        "*Your answer here.*"
      ]
    },
    {
      "cell_type": "code",
      "source": [
        "import numpy as np\n",
        "\n",
        "#defining R and standard dev\n",
        "R = [11, 12, 10]\n",
        "std = [1, 1, 3]\n",
        "\n",
        "#weighted errors\n",
        "weight = 1/np.array(std)**2\n",
        "best_r = np.sum(weight*R)/np.sum(weight)\n",
        "uncert_r = np.sqrt(1/np.sum(weight))\n",
        "\n",
        "print('The resistance is {:.1f} +/- {:.1f} Ohms'.format(best_r, uncert_r))"
      ],
      "metadata": {
        "colab": {
          "base_uri": "https://localhost:8080/"
        },
        "id": "6r92q_18KSub",
        "outputId": "3c89ad81-06db-41c2-8d2a-82688c1d99b7"
      },
      "execution_count": null,
      "outputs": [
        {
          "output_type": "stream",
          "name": "stdout",
          "text": [
            "The resistance is 11.4 +/- 0.7 Ohms\n"
          ]
        }
      ]
    },
    {
      "cell_type": "markdown",
      "metadata": {
        "id": "6HbmMt20uLxo"
      },
      "source": [
        "***"
      ]
    },
    {
      "cell_type": "markdown",
      "metadata": {
        "id": "svu30M4auLxo"
      },
      "source": [
        "# Correlation"
      ]
    },
    {
      "cell_type": "markdown",
      "metadata": {
        "id": "MosM02QAuLxo"
      },
      "source": [
        "## <font color=#30a64d>Question </font>"
      ]
    },
    {
      "cell_type": "markdown",
      "metadata": {
        "id": "CcsOcc7muLxo"
      },
      "source": [
        "The datafile [worldpopulation.txt](https://github.com/haleygomez/Data-Science-2024/raw/main/blended_exercises/Chapter4/worldpopulation.txt) contains the world population size measured since 1960. Plot the data (you will need to upload the datafile to your Google Colab). <br><br>\n",
        "\n",
        "Measure the correlation coefficient using the in built Python package for the Pearson $r$s statistic. <br><br>\n",
        "\n",
        "Measure it again but this time creating the functions to calculate $r$ from scratch.  \n",
        "\n",
        "The url of the file is \"https://github.com/haleygomez/Data-Science-2024/raw/main/blended_exercises/Chapter4/worldpopulation.txt\""
      ]
    },
    {
      "cell_type": "markdown",
      "metadata": {
        "id": "1lwa19pBuLxp"
      },
      "source": [
        "### Answer"
      ]
    },
    {
      "cell_type": "markdown",
      "metadata": {
        "id": "X1buEbNTuLxp"
      },
      "source": [
        "*Your answer here.*"
      ]
    },
    {
      "cell_type": "code",
      "source": [
        "import matplotlib.pyplot as plt\n",
        "%matplotlib inline\n",
        "\n",
        "#Loading in text file and plotting\n",
        "data = np.loadtxt('https://github.com/haleygomez/Data-Science-2024/raw/main/blended_exercises/Chapter4/worldpopulation.txt')\n",
        "plt.plot(data[0], data[1], 'o')\n",
        "plt.xlabel('Year')\n",
        "plt.ylabel('Population')"
      ],
      "metadata": {
        "colab": {
          "base_uri": "https://localhost:8080/",
          "height": 483
        },
        "id": "3m2xKwgUL3Hb",
        "outputId": "d677fe82-5f7a-4d6b-ab58-d81275868738"
      },
      "execution_count": null,
      "outputs": [
        {
          "output_type": "execute_result",
          "data": {
            "text/plain": [
              "Text(0, 0.5, 'Population')"
            ]
          },
          "metadata": {},
          "execution_count": 3
        },
        {
          "output_type": "display_data",
          "data": {
            "text/plain": [
              "<Figure size 640x480 with 1 Axes>"
            ],
            "image/png": "[encoded data removed]"
          },
          "metadata": {}
        }
      ]
    },
    {
      "cell_type": "code",
      "source": [
        "from scipy.stats import pearsonr\n",
        "\n",
        "#calculating r using in built python function\n",
        "corr, _ = pearsonr(data[0], data[1])\n",
        "print('The correlation coefficient is {:.5f}'.format(corr))"
      ],
      "metadata": {
        "colab": {
          "base_uri": "https://localhost:8080/"
        },
        "id": "UrDTYAqhMRAd",
        "outputId": "c11abb55-1298-48c8-cfac-9a94781bcfa3"
      },
      "execution_count": null,
      "outputs": [
        {
          "output_type": "stream",
          "name": "stdout",
          "text": [
            "The correlation coefficient is 0.99956\n"
          ]
        }
      ]
    },
    {
      "cell_type": "code",
      "source": [
        "#calculating r by hand\n",
        "#how many data points?\n",
        "n = len(data[0])\n",
        "\n",
        "#calculate mean and standard dev\n",
        "mean_n = np.mean(data[1])\n",
        "std_n = np.sqrt(np.sum((data[1]-mean_n)**2)/(n-1))\n",
        "\n",
        "mean_yr = np.mean(data[0])\n",
        "std_yr = np.sqrt(np.sum((data[0]-mean_yr)**2)/(n-1))\n",
        "\n",
        "print('Average number is {:.2e} +/- {:.2e}'.format(mean_n, std_n))\n",
        "print('Average year is {:.2e} +/- {:.2e}'.format(mean_yr, std_yr))\n",
        "\n",
        "#calculate correlation coeff\n",
        "sum_xy = np.sum((data[1]-mean_n)*(data[0]-mean_yr))\n",
        "sum_x = np.sum((data[0]-mean_yr)**2)\n",
        "sum_y = np.sum((data[1]-mean_n)**2)\n",
        "\n",
        "r = sum_xy/np.sqrt(sum_x*sum_y)\n",
        "print('The correlation coefficient between the two is {:.5f}'.format(r))\n",
        "print('This indicates a very strong positive correlation in the data')"
      ],
      "metadata": {
        "colab": {
          "base_uri": "https://localhost:8080/"
        },
        "id": "R5HDmCBgMosG",
        "outputId": "eb21768e-dc95-48c1-8e7a-d4d974f9c391"
      },
      "execution_count": null,
      "outputs": [
        {
          "output_type": "stream",
          "name": "stdout",
          "text": [
            "Average number is 5.22e+09 +/- 1.38e+09\n",
            "Average year is 1.99e+03 +/- 1.72e+01\n",
            "The correlation coefficient between the two is 0.99956\n",
            "This indicates a very strong positive correlation in the data\n"
          ]
        }
      ]
    },
    {
      "cell_type": "markdown",
      "metadata": {
        "id": "ujdLXM9tuLxp"
      },
      "source": [
        "***"
      ]
    },
    {
      "cell_type": "markdown",
      "metadata": {
        "id": "cPgouA1KuLxp"
      },
      "source": [
        "# Hypothesis Testing"
      ]
    },
    {
      "cell_type": "markdown",
      "metadata": {
        "id": "ph1Vovb0uLxp"
      },
      "source": [
        "## <font color=#30a64d>Question</font>"
      ]
    },
    {
      "cell_type": "markdown",
      "metadata": {
        "id": "AFHDolM5uLxp"
      },
      "source": [
        "A company releases a new ski wax that it claims (naturally) is superior to its rivals, and greatly reduces the friction between skis and snow. A skiing magazine decides to test the claim by performing an experiment. They take 10 pairs of skis, and treat one ski from each pair -- the left one -- with the new wax, and the other (the right) ski with the wax from a competing brand. Each pair of skis are then released from the top of a ramp in turn, and they record which of the two skis reach the bottom of the ramp first.    The team find that the new skis win 8 of the 10 races.  Is their claim correct?"
      ]
    },
    {
      "cell_type": "markdown",
      "metadata": {
        "id": "bWFqQ3e0uLxq"
      },
      "source": [
        "### Answer"
      ]
    },
    {
      "cell_type": "markdown",
      "metadata": {
        "id": "qAZP_lZ3uLxq"
      },
      "source": [
        "*Your answer here.*"
      ]
    },
    {
      "cell_type": "markdown",
      "source": [
        "Null hypothesis: new wax makes no difference (each skier should have same probability of crossing the line first)\n",
        "\n",
        "p(new wax win) = p(old wax win) = 0.5\n",
        "\n",
        "Probability of winning all 10 races with treated skis:\n",
        "\n",
        "p(ν wins in 10 races) = $ B_{10,0.5}(ν) = \\frac{10!}{ν!(10 - ν)!} (\\frac{1}{2})^{10} < 0.1$%\n",
        "\n",
        "If null hypothesis correct, prob of winning all 10 races would be very unlikely\n",
        "\n",
        "Probability of winning 8 races given null hypothesis, need to account for:\n",
        "\n",
        "P(8 or more wins in 10 races) = p(8 wins) + p(9 wins) + p(10 wins)\n",
        "\n",
        "We do this instead of just calculating $ B_{10,0.5}(8) $ because consider the case where was had 100 races, the chances of getting exactly 80 wins in now quite a bit less than the chance of winning 8 out of 10 races even though the fraction difference is the same!"
      ],
      "metadata": {
        "id": "SqDg9SC1PA7r"
      }
    },
    {
      "cell_type": "code",
      "source": [
        "from scipy.stats import binom\n",
        "\n",
        "#win all 10 races\n",
        "nu_10 = 10\n",
        "p = 0.5\n",
        "N = 10\n",
        "p_10 = binom.pmf(nu_10, N, p)\n",
        "\n",
        "#win 8 out of 10\n",
        "nu_8 = 8\n",
        "p_8 = binom.pmf(nu_8, N, p)\n",
        "\n",
        "#need to add prob they get 8 or more wins in 10 races\n",
        "item = [8,9,10]\n",
        "prob_sum = 0\n",
        "\n",
        "for i in range(len(item)):\n",
        "  prob_sum = prob_sum + binom.pmf(item[i], N, p)\n",
        "\n",
        "print('Probability of winning all 10 races: {:.2f}%'.format(p_10*100))\n",
        "print('Probability of winning 8 out of 10 races: {:.2f}%'.format(p_8*100))\n",
        "print('Probability of winning 8 or more races: {:.2f}%'.format(prob_sum*100))"
      ],
      "metadata": {
        "id": "cSE4Bek7OSCm",
        "outputId": "8f385787-e83f-4bc3-a583-8efe544398d2",
        "colab": {
          "base_uri": "https://localhost:8080/"
        }
      },
      "execution_count": null,
      "outputs": [
        {
          "output_type": "stream",
          "name": "stdout",
          "text": [
            "Probability of winning all 10 races: 0.10%\n",
            "Probability of winning 8 out of 10 races: 4.39%\n",
            "Probability of winning 8 or more races: 5.47%\n"
          ]
        }
      ]
    },
    {
      "cell_type": "markdown",
      "source": [
        "Do we reject null hypothesis?\n",
        "* True null hypothesis is correct but by chance an unlikely event has occured (new wax makes no difference, but by a fluke, those skis with this wax won anyway)\n",
        "* False null hypothesis (new wax really is helping the skis go faster)\n",
        "\n",
        "Probability of seeing at least 8 wins in 10 races is 5.5% which is above our 5% boundary - so we cannot reject the null hypothesis with this experiment. Our results were NOT significant.\n",
        "But if we had measured 10 wins in 10 races, since the prob was so low (0.1%), then we could have said there was significant evidence that the wax helps."
      ],
      "metadata": {
        "id": "MFCpepUVSXd7"
      }
    },
    {
      "cell_type": "markdown",
      "metadata": {
        "id": "blrCNVHXuLxq"
      },
      "source": [
        "***"
      ]
    }
  ],
  "metadata": {
    "kernelspec": {
      "display_name": "Python 3 (ipykernel)",
      "language": "python",
      "name": "python3"
    },
    "language_info": {
      "codemirror_mode": {
        "name": "ipython",
        "version": 3
      },
      "file_extension": ".py",
      "mimetype": "text/x-python",
      "name": "python",
      "nbconvert_exporter": "python",
      "pygments_lexer": "ipython3",
      "version": "3.9.13"
    },
    "colab": {
      "provenance": [],
      "name": "Chapter4Attempt.ipynb",
      "include_colab_link": true
    }
  },
  "nbformat": 4,
  "nbformat_minor": 0
}
